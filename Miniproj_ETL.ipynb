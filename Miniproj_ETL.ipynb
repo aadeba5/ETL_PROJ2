{
 "metadata": {
  "language_info": {
   "codemirror_mode": {
    "name": "ipython",
    "version": 3
   },
   "file_extension": ".py",
   "mimetype": "text/x-python",
   "name": "python",
   "nbconvert_exporter": "python",
   "pygments_lexer": "ipython3",
   "version": "3.6.12-final"
  },
  "orig_nbformat": 2,
  "kernelspec": {
   "name": "python3",
   "display_name": "Python 3.6.12 64-bit ('bootcamp': conda)",
   "metadata": {
    "interpreter": {
     "hash": "3ac482b9879f4c5dbe1b8d78bb0aedb6ef73352cf447c14015487890239a8f19"
    }
   }
  }
 },
 "nbformat": 4,
 "nbformat_minor": 2,
 "cells": [
  {
   "cell_type": "code",
   "execution_count": 285,
   "metadata": {},
   "outputs": [],
   "source": [
    "import pandas as pd\n",
    "from sqlalchemy import create_engine"
   ]
  },
  {
   "cell_type": "code",
   "execution_count": 286,
   "metadata": {},
   "outputs": [],
   "source": [
    "# Store CSV into DataFrame"
   ]
  },
  {
   "cell_type": "code",
   "execution_count": 287,
   "metadata": {},
   "outputs": [],
   "source": [
    "# csv_file = \"IMDb movies.csv\"\n",
    "# IMDb_data_df = pd.read_csv(csv_file)\n",
    "# IMDb_data_df"
   ]
  },
  {
   "cell_type": "code",
   "execution_count": 288,
   "metadata": {},
   "outputs": [],
   "source": [
    "# ETL_mini_proj/IMDb movies.csv"
   ]
  },
  {
   "cell_type": "code",
   "execution_count": 289,
   "metadata": {},
   "outputs": [
    {
     "output_type": "stream",
     "name": "stderr",
     "text": [
      "/Users/amusaadebayo/opt/anaconda3/envs/bootcamp/lib/python3.6/site-packages/IPython/core/interactiveshell.py:3072: DtypeWarning: Columns (3) have mixed types.Specify dtype option on import or set low_memory=False.\n  interactivity=interactivity, compiler=compiler, result=result)\n"
     ]
    },
    {
     "output_type": "execute_result",
     "data": {
      "text/plain": [
       "      imdb_title_id                           Title  \\\n",
       "0         tt0000009                      Miss Jerry   \n",
       "1         tt0000574     The Story of the Kelly Gang   \n",
       "2         tt0001892                  Den sorte drøm   \n",
       "3         tt0002101                       Cleopatra   \n",
       "4         tt0002130                       L'Inferno   \n",
       "...             ...                             ...   \n",
       "85850     tt9908390                         Le lion   \n",
       "85851     tt9911196  De Beentjes van Sint-Hildegard   \n",
       "85852     tt9911774       Padmavyuhathile Abhimanyu   \n",
       "85853     tt9914286               Sokagin Çocuklari   \n",
       "85854     tt9914942      La vida sense la Sara Amat   \n",
       "\n",
       "                       original_title  year date_published  \\\n",
       "0                          Miss Jerry  1894     1894-10-09   \n",
       "1         The Story of the Kelly Gang  1906     1906-12-26   \n",
       "2                      Den sorte drøm  1911     1911-08-19   \n",
       "3                           Cleopatra  1912     1912-11-13   \n",
       "4                           L'Inferno  1911     1911-03-06   \n",
       "...                               ...   ...            ...   \n",
       "85850                         Le lion  2020     2020-01-29   \n",
       "85851  De Beentjes van Sint-Hildegard  2020     2020-02-13   \n",
       "85852       Padmavyuhathile Abhimanyu  2019     2019-03-08   \n",
       "85853               Sokagin Çocuklari  2019     2019-03-15   \n",
       "85854      La vida sense la Sara Amat  2019     2020-02-05   \n",
       "\n",
       "                           genre  duration           country       language  \\\n",
       "0                        Romance        45               USA           None   \n",
       "1        Biography, Crime, Drama        70         Australia           None   \n",
       "2                          Drama        53  Germany, Denmark            NaN   \n",
       "3                 Drama, History       100               USA        English   \n",
       "4      Adventure, Drama, Fantasy        68             Italy        Italian   \n",
       "...                          ...       ...               ...            ...   \n",
       "85850                     Comedy        95   France, Belgium         French   \n",
       "85851              Comedy, Drama       103       Netherlands  German, Dutch   \n",
       "85852                      Drama       130             India      Malayalam   \n",
       "85853              Drama, Family        98            Turkey        Turkish   \n",
       "85854                      Drama        74             Spain        Catalan   \n",
       "\n",
       "                                  director  ...  \\\n",
       "0                          Alexander Black  ...   \n",
       "1                             Charles Tait  ...   \n",
       "2                                Urban Gad  ...   \n",
       "3                       Charles L. Gaskill  ...   \n",
       "4      Francesco Bertolini, Adolfo Padovan  ...   \n",
       "...                                    ...  ...   \n",
       "85850               Ludovic Colbeau-Justin  ...   \n",
       "85851                      Johan Nijenhuis  ...   \n",
       "85852                      Vineesh Aaradya  ...   \n",
       "85853                    Ahmet Faik Akinci  ...   \n",
       "85854                            Laura Jou  ...   \n",
       "\n",
       "                                                  actors  \\\n",
       "0      Blanche Bayliss, William Courtenay, Chauncey D...   \n",
       "1      Elizabeth Tait, John Tait, Norman Campbell, Be...   \n",
       "2      Asta Nielsen, Valdemar Psilander, Gunnar Helse...   \n",
       "3      Helen Gardner, Pearl Sindelar, Miss Fielding, ...   \n",
       "4      Salvatore Papa, Arturo Pirovano, Giuseppe de L...   \n",
       "...                                                  ...   \n",
       "85850  Dany Boon, Philippe Katerine, Anne Serra, Samu...   \n",
       "85851  Herman Finkers, Johanna ter Steege, Leonie ter...   \n",
       "85852  Anoop Chandran, Indrans, Sona Nair, Simon Brit...   \n",
       "85853  Ahmet Faik Akinci, Belma Mamati, Metin Keçeci,...   \n",
       "85854  Maria Morera Colomer, Biel Rossell Pelfort, Is...   \n",
       "\n",
       "                                             description avg_vote votes  \\\n",
       "0      The adventures of a female reporter in the 1890s.      5.9   154   \n",
       "1      True story of notorious Australian outlaw Ned ...      6.1   589   \n",
       "2      Two men of high rank are both wooing the beaut...      5.8   188   \n",
       "3      The fabled queen of Egypt's affair with Roman ...      5.2   446   \n",
       "4      Loosely adapted from Dante's Divine Comedy and...      7.0  2237   \n",
       "...                                                  ...      ...   ...   \n",
       "85850  A psychiatric hospital patient pretends to be ...      5.3   398   \n",
       "85851  A middle-aged veterinary surgeon believes his ...      7.7   724   \n",
       "85852                                                NaN      7.9   265   \n",
       "85853                                                NaN      6.4   194   \n",
       "85854  Pep, a 13-year-old boy, is in love with a girl...      6.7   102   \n",
       "\n",
       "        budget  usa_gross_income worlwide_gross_income metascore  \\\n",
       "0          NaN               NaN                   NaN       NaN   \n",
       "1       $ 2250               NaN                   NaN       NaN   \n",
       "2          NaN               NaN                   NaN       NaN   \n",
       "3      $ 45000               NaN                   NaN       NaN   \n",
       "4          NaN               NaN                   NaN       NaN   \n",
       "...        ...               ...                   ...       ...   \n",
       "85850      NaN               NaN             $ 3507171       NaN   \n",
       "85851      NaN               NaN             $ 7299062       NaN   \n",
       "85852      NaN               NaN                   NaN       NaN   \n",
       "85853      NaN               NaN                $ 2833       NaN   \n",
       "85854      NaN               NaN               $ 59794       NaN   \n",
       "\n",
       "      reviews_from_users  reviews_from_critics  \n",
       "0                    1.0                   2.0  \n",
       "1                    7.0                   7.0  \n",
       "2                    5.0                   2.0  \n",
       "3                   25.0                   3.0  \n",
       "4                   31.0                  14.0  \n",
       "...                  ...                   ...  \n",
       "85850                NaN                   4.0  \n",
       "85851                6.0                   4.0  \n",
       "85852                NaN                   NaN  \n",
       "85853                NaN                   NaN  \n",
       "85854                NaN                   2.0  \n",
       "\n",
       "[85855 rows x 22 columns]"
      ],
      "text/html": "<div>\n<style scoped>\n    .dataframe tbody tr th:only-of-type {\n        vertical-align: middle;\n    }\n\n    .dataframe tbody tr th {\n        vertical-align: top;\n    }\n\n    .dataframe thead th {\n        text-align: right;\n    }\n</style>\n<table border=\"1\" class=\"dataframe\">\n  <thead>\n    <tr style=\"text-align: right;\">\n      <th></th>\n      <th>imdb_title_id</th>\n      <th>Title</th>\n      <th>original_title</th>\n      <th>year</th>\n      <th>date_published</th>\n      <th>genre</th>\n      <th>duration</th>\n      <th>country</th>\n      <th>language</th>\n      <th>director</th>\n      <th>...</th>\n      <th>actors</th>\n      <th>description</th>\n      <th>avg_vote</th>\n      <th>votes</th>\n      <th>budget</th>\n      <th>usa_gross_income</th>\n      <th>worlwide_gross_income</th>\n      <th>metascore</th>\n      <th>reviews_from_users</th>\n      <th>reviews_from_critics</th>\n    </tr>\n  </thead>\n  <tbody>\n    <tr>\n      <th>0</th>\n      <td>tt0000009</td>\n      <td>Miss Jerry</td>\n      <td>Miss Jerry</td>\n      <td>1894</td>\n      <td>1894-10-09</td>\n      <td>Romance</td>\n      <td>45</td>\n      <td>USA</td>\n      <td>None</td>\n      <td>Alexander Black</td>\n      <td>...</td>\n      <td>Blanche Bayliss, William Courtenay, Chauncey D...</td>\n      <td>The adventures of a female reporter in the 1890s.</td>\n      <td>5.9</td>\n      <td>154</td>\n      <td>NaN</td>\n      <td>NaN</td>\n      <td>NaN</td>\n      <td>NaN</td>\n      <td>1.0</td>\n      <td>2.0</td>\n    </tr>\n    <tr>\n      <th>1</th>\n      <td>tt0000574</td>\n      <td>The Story of the Kelly Gang</td>\n      <td>The Story of the Kelly Gang</td>\n      <td>1906</td>\n      <td>1906-12-26</td>\n      <td>Biography, Crime, Drama</td>\n      <td>70</td>\n      <td>Australia</td>\n      <td>None</td>\n      <td>Charles Tait</td>\n      <td>...</td>\n      <td>Elizabeth Tait, John Tait, Norman Campbell, Be...</td>\n      <td>True story of notorious Australian outlaw Ned ...</td>\n      <td>6.1</td>\n      <td>589</td>\n      <td>$ 2250</td>\n      <td>NaN</td>\n      <td>NaN</td>\n      <td>NaN</td>\n      <td>7.0</td>\n      <td>7.0</td>\n    </tr>\n    <tr>\n      <th>2</th>\n      <td>tt0001892</td>\n      <td>Den sorte drøm</td>\n      <td>Den sorte drøm</td>\n      <td>1911</td>\n      <td>1911-08-19</td>\n      <td>Drama</td>\n      <td>53</td>\n      <td>Germany, Denmark</td>\n      <td>NaN</td>\n      <td>Urban Gad</td>\n      <td>...</td>\n      <td>Asta Nielsen, Valdemar Psilander, Gunnar Helse...</td>\n      <td>Two men of high rank are both wooing the beaut...</td>\n      <td>5.8</td>\n      <td>188</td>\n      <td>NaN</td>\n      <td>NaN</td>\n      <td>NaN</td>\n      <td>NaN</td>\n      <td>5.0</td>\n      <td>2.0</td>\n    </tr>\n    <tr>\n      <th>3</th>\n      <td>tt0002101</td>\n      <td>Cleopatra</td>\n      <td>Cleopatra</td>\n      <td>1912</td>\n      <td>1912-11-13</td>\n      <td>Drama, History</td>\n      <td>100</td>\n      <td>USA</td>\n      <td>English</td>\n      <td>Charles L. Gaskill</td>\n      <td>...</td>\n      <td>Helen Gardner, Pearl Sindelar, Miss Fielding, ...</td>\n      <td>The fabled queen of Egypt's affair with Roman ...</td>\n      <td>5.2</td>\n      <td>446</td>\n      <td>$ 45000</td>\n      <td>NaN</td>\n      <td>NaN</td>\n      <td>NaN</td>\n      <td>25.0</td>\n      <td>3.0</td>\n    </tr>\n    <tr>\n      <th>4</th>\n      <td>tt0002130</td>\n      <td>L'Inferno</td>\n      <td>L'Inferno</td>\n      <td>1911</td>\n      <td>1911-03-06</td>\n      <td>Adventure, Drama, Fantasy</td>\n      <td>68</td>\n      <td>Italy</td>\n      <td>Italian</td>\n      <td>Francesco Bertolini, Adolfo Padovan</td>\n      <td>...</td>\n      <td>Salvatore Papa, Arturo Pirovano, Giuseppe de L...</td>\n      <td>Loosely adapted from Dante's Divine Comedy and...</td>\n      <td>7.0</td>\n      <td>2237</td>\n      <td>NaN</td>\n      <td>NaN</td>\n      <td>NaN</td>\n      <td>NaN</td>\n      <td>31.0</td>\n      <td>14.0</td>\n    </tr>\n    <tr>\n      <th>...</th>\n      <td>...</td>\n      <td>...</td>\n      <td>...</td>\n      <td>...</td>\n      <td>...</td>\n      <td>...</td>\n      <td>...</td>\n      <td>...</td>\n      <td>...</td>\n      <td>...</td>\n      <td>...</td>\n      <td>...</td>\n      <td>...</td>\n      <td>...</td>\n      <td>...</td>\n      <td>...</td>\n      <td>...</td>\n      <td>...</td>\n      <td>...</td>\n      <td>...</td>\n      <td>...</td>\n    </tr>\n    <tr>\n      <th>85850</th>\n      <td>tt9908390</td>\n      <td>Le lion</td>\n      <td>Le lion</td>\n      <td>2020</td>\n      <td>2020-01-29</td>\n      <td>Comedy</td>\n      <td>95</td>\n      <td>France, Belgium</td>\n      <td>French</td>\n      <td>Ludovic Colbeau-Justin</td>\n      <td>...</td>\n      <td>Dany Boon, Philippe Katerine, Anne Serra, Samu...</td>\n      <td>A psychiatric hospital patient pretends to be ...</td>\n      <td>5.3</td>\n      <td>398</td>\n      <td>NaN</td>\n      <td>NaN</td>\n      <td>$ 3507171</td>\n      <td>NaN</td>\n      <td>NaN</td>\n      <td>4.0</td>\n    </tr>\n    <tr>\n      <th>85851</th>\n      <td>tt9911196</td>\n      <td>De Beentjes van Sint-Hildegard</td>\n      <td>De Beentjes van Sint-Hildegard</td>\n      <td>2020</td>\n      <td>2020-02-13</td>\n      <td>Comedy, Drama</td>\n      <td>103</td>\n      <td>Netherlands</td>\n      <td>German, Dutch</td>\n      <td>Johan Nijenhuis</td>\n      <td>...</td>\n      <td>Herman Finkers, Johanna ter Steege, Leonie ter...</td>\n      <td>A middle-aged veterinary surgeon believes his ...</td>\n      <td>7.7</td>\n      <td>724</td>\n      <td>NaN</td>\n      <td>NaN</td>\n      <td>$ 7299062</td>\n      <td>NaN</td>\n      <td>6.0</td>\n      <td>4.0</td>\n    </tr>\n    <tr>\n      <th>85852</th>\n      <td>tt9911774</td>\n      <td>Padmavyuhathile Abhimanyu</td>\n      <td>Padmavyuhathile Abhimanyu</td>\n      <td>2019</td>\n      <td>2019-03-08</td>\n      <td>Drama</td>\n      <td>130</td>\n      <td>India</td>\n      <td>Malayalam</td>\n      <td>Vineesh Aaradya</td>\n      <td>...</td>\n      <td>Anoop Chandran, Indrans, Sona Nair, Simon Brit...</td>\n      <td>NaN</td>\n      <td>7.9</td>\n      <td>265</td>\n      <td>NaN</td>\n      <td>NaN</td>\n      <td>NaN</td>\n      <td>NaN</td>\n      <td>NaN</td>\n      <td>NaN</td>\n    </tr>\n    <tr>\n      <th>85853</th>\n      <td>tt9914286</td>\n      <td>Sokagin Çocuklari</td>\n      <td>Sokagin Çocuklari</td>\n      <td>2019</td>\n      <td>2019-03-15</td>\n      <td>Drama, Family</td>\n      <td>98</td>\n      <td>Turkey</td>\n      <td>Turkish</td>\n      <td>Ahmet Faik Akinci</td>\n      <td>...</td>\n      <td>Ahmet Faik Akinci, Belma Mamati, Metin Keçeci,...</td>\n      <td>NaN</td>\n      <td>6.4</td>\n      <td>194</td>\n      <td>NaN</td>\n      <td>NaN</td>\n      <td>$ 2833</td>\n      <td>NaN</td>\n      <td>NaN</td>\n      <td>NaN</td>\n    </tr>\n    <tr>\n      <th>85854</th>\n      <td>tt9914942</td>\n      <td>La vida sense la Sara Amat</td>\n      <td>La vida sense la Sara Amat</td>\n      <td>2019</td>\n      <td>2020-02-05</td>\n      <td>Drama</td>\n      <td>74</td>\n      <td>Spain</td>\n      <td>Catalan</td>\n      <td>Laura Jou</td>\n      <td>...</td>\n      <td>Maria Morera Colomer, Biel Rossell Pelfort, Is...</td>\n      <td>Pep, a 13-year-old boy, is in love with a girl...</td>\n      <td>6.7</td>\n      <td>102</td>\n      <td>NaN</td>\n      <td>NaN</td>\n      <td>$ 59794</td>\n      <td>NaN</td>\n      <td>NaN</td>\n      <td>2.0</td>\n    </tr>\n  </tbody>\n</table>\n<p>85855 rows × 22 columns</p>\n</div>"
     },
     "metadata": {},
     "execution_count": 289
    }
   ],
   "source": [
    "csv_file1 = \"IMDb_movies.csv\"\n",
    "IMDb_data_df = pd.read_csv(csv_file1)\n",
    "IMDb_data_df"
   ]
  },
  {
   "cell_type": "code",
   "execution_count": 290,
   "metadata": {},
   "outputs": [
    {
     "output_type": "execute_result",
     "data": {
      "text/plain": [
       "      imdb_title_id                          Title  \\\n",
       "506       tt0017136                     Metropolis   \n",
       "1048      tt0021749               Luci della città   \n",
       "2454      tt0027977                  Tempi moderni   \n",
       "2795      tt0029453        Il bandito della Casbah   \n",
       "2827      tt0029583      Biancaneve e i sette nani   \n",
       "...             ...                            ...   \n",
       "85266     tt9208444  Impractical Jokers: The Movie   \n",
       "85274     tt9214832                          Emma.   \n",
       "85397     tt9354944                           Jexi   \n",
       "85460     tt9426210            Weathering with You   \n",
       "85740     tt9779516            Cosa mi lasci di te   \n",
       "\n",
       "                        original_title  year date_published  \\\n",
       "506                         Metropolis  1927     1928-10-01   \n",
       "1048                       City Lights  1931     1931-04-02   \n",
       "2454                      Modern Times  1936     1937-03-12   \n",
       "2795                      Pépé le Moko  1937     1937-10-22   \n",
       "2827   Snow White and the Seven Dwarfs  1937     1938-11-30   \n",
       "...                                ...   ...            ...   \n",
       "85266    Impractical Jokers: The Movie  2020     2020-02-28   \n",
       "85274                            Emma.  2020     2020-03-27   \n",
       "85397                             Jexi  2019     2019-10-11   \n",
       "85460                      Tenki no ko  2019     2019-10-14   \n",
       "85740                  I Still Believe  2020     2020-03-19   \n",
       "\n",
       "                            genre  duration       country        language  \\\n",
       "506                 Drama, Sci-Fi       153       Germany          German   \n",
       "1048       Comedy, Drama, Romance        87           USA         English   \n",
       "2454        Comedy, Drama, Family        87           USA         English   \n",
       "2795        Crime, Drama, Romance        94        France  French, Arabic   \n",
       "2827   Animation, Family, Fantasy        83           USA         English   \n",
       "...                           ...       ...           ...             ...   \n",
       "85266                      Comedy        92           USA         English   \n",
       "85274               Comedy, Drama       124            UK         English   \n",
       "85397             Comedy, Romance        84   USA, Canada         English   \n",
       "85460    Animation, Drama, Family       112  Japan, China        Japanese   \n",
       "85740     Biography, Drama, Music       116           USA         English   \n",
       "\n",
       "                           director  ...  \\\n",
       "506                      Fritz Lang  ...   \n",
       "1048                Charles Chaplin  ...   \n",
       "2454                Charles Chaplin  ...   \n",
       "2795                Julien Duvivier  ...   \n",
       "2827   William Cottrell, David Hand  ...   \n",
       "...                             ...  ...   \n",
       "85266                  Chris Henchy  ...   \n",
       "85274               Autumn de Wilde  ...   \n",
       "85397        Jon Lucas, Scott Moore  ...   \n",
       "85460                Makoto Shinkai  ...   \n",
       "85740       Andrew Erwin, Jon Erwin  ...   \n",
       "\n",
       "                                                  actors  \\\n",
       "506    Alfred Abel, Gustav Fröhlich, Rudolf Klein-Rog...   \n",
       "1048   Virginia Cherrill, Florence Lee, Harry Myers, ...   \n",
       "2454   Charles Chaplin, Paulette Goddard, Henry Bergm...   \n",
       "2795   Jean Gabin, Gabriel Gabrio, Saturnin Fabre, Fe...   \n",
       "2827   Roy Atwell, Stuart Buchanan, Adriana Caselotti...   \n",
       "...                                                  ...   \n",
       "85266  Paula Abdul, Joe Gatto, James Murray, Brian Qu...   \n",
       "85274  Anya Taylor-Joy, Angus Imrie, Letty Thomas, Ge...   \n",
       "85397  Adam Devine, Alexandra Shipp, Rose Byrne, Ron ...   \n",
       "85460  Kotaro Daigo, Nana Mori, Shun Oguri, Sei Hirai...   \n",
       "85740  K.J. Apa, Britt Robertson, Nathan Parsons, Gar...   \n",
       "\n",
       "                                             description avg_vote   votes  \\\n",
       "506    In a futuristic city sharply divided between t...      8.3  156076   \n",
       "1048   With the aid of a wealthy erratic tippler, a d...      8.5  162668   \n",
       "2454   The Tramp struggles to live in modern industri...      8.5  211250   \n",
       "2795   A wanted gangster is both king and prisoner of...      7.7    6180   \n",
       "2827   Exiled into the dangerous forest by her wicked...      7.6  177157   \n",
       "...                                                  ...      ...     ...   \n",
       "85266  The story of a humiliating high school mishap ...      5.9    4105   \n",
       "85274  In 1800s England, a well meaning but selfish y...      6.7   19858   \n",
       "85397  A comedy about what can happen when you love y...      6.1   17038   \n",
       "85460  A high-school boy who has run away to Tokyo be...      7.6   16277   \n",
       "85740  The true-life story of Christian music star Je...      6.5    6196   \n",
       "\n",
       "            budget  usa_gross_income worlwide_gross_income metascore  \\\n",
       "506    DEM 6000000         $ 1236166             $ 1349711      98.0   \n",
       "1048     $ 1500000           $ 19181               $ 46008      99.0   \n",
       "2454     $ 1500000          $ 163577              $ 457688      96.0   \n",
       "2795       $ 60000          $ 155895              $ 155895      98.0   \n",
       "2827     $ 1499000       $ 184925486           $ 184925486      95.0   \n",
       "...            ...               ...                   ...       ...   \n",
       "85266    $ 3000000        $ 10691091            $ 10691091      39.0   \n",
       "85274   $ 10000000        $ 10055355            $ 25659965      71.0   \n",
       "85397    $ 5000000         $ 6546159             $ 9341824      39.0   \n",
       "85460   $ 11100000         $ 7798743           $ 193176979      72.0   \n",
       "85740   $ 12000000         $ 9868521            $ 13681524      41.0   \n",
       "\n",
       "      reviews_from_users  reviews_from_critics  \n",
       "506                495.0                 208.0  \n",
       "1048               295.0                 122.0  \n",
       "2454               307.0                 115.0  \n",
       "2795                46.0                  55.0  \n",
       "2827               260.0                 173.0  \n",
       "...                  ...                   ...  \n",
       "85266              152.0                  17.0  \n",
       "85274              314.0                 188.0  \n",
       "85397              234.0                  42.0  \n",
       "85460              177.0                 110.0  \n",
       "85740              151.0                  52.0  \n",
       "\n",
       "[6616 rows x 22 columns]"
      ],
      "text/html": "<div>\n<style scoped>\n    .dataframe tbody tr th:only-of-type {\n        vertical-align: middle;\n    }\n\n    .dataframe tbody tr th {\n        vertical-align: top;\n    }\n\n    .dataframe thead th {\n        text-align: right;\n    }\n</style>\n<table border=\"1\" class=\"dataframe\">\n  <thead>\n    <tr style=\"text-align: right;\">\n      <th></th>\n      <th>imdb_title_id</th>\n      <th>Title</th>\n      <th>original_title</th>\n      <th>year</th>\n      <th>date_published</th>\n      <th>genre</th>\n      <th>duration</th>\n      <th>country</th>\n      <th>language</th>\n      <th>director</th>\n      <th>...</th>\n      <th>actors</th>\n      <th>description</th>\n      <th>avg_vote</th>\n      <th>votes</th>\n      <th>budget</th>\n      <th>usa_gross_income</th>\n      <th>worlwide_gross_income</th>\n      <th>metascore</th>\n      <th>reviews_from_users</th>\n      <th>reviews_from_critics</th>\n    </tr>\n  </thead>\n  <tbody>\n    <tr>\n      <th>506</th>\n      <td>tt0017136</td>\n      <td>Metropolis</td>\n      <td>Metropolis</td>\n      <td>1927</td>\n      <td>1928-10-01</td>\n      <td>Drama, Sci-Fi</td>\n      <td>153</td>\n      <td>Germany</td>\n      <td>German</td>\n      <td>Fritz Lang</td>\n      <td>...</td>\n      <td>Alfred Abel, Gustav Fröhlich, Rudolf Klein-Rog...</td>\n      <td>In a futuristic city sharply divided between t...</td>\n      <td>8.3</td>\n      <td>156076</td>\n      <td>DEM 6000000</td>\n      <td>$ 1236166</td>\n      <td>$ 1349711</td>\n      <td>98.0</td>\n      <td>495.0</td>\n      <td>208.0</td>\n    </tr>\n    <tr>\n      <th>1048</th>\n      <td>tt0021749</td>\n      <td>Luci della città</td>\n      <td>City Lights</td>\n      <td>1931</td>\n      <td>1931-04-02</td>\n      <td>Comedy, Drama, Romance</td>\n      <td>87</td>\n      <td>USA</td>\n      <td>English</td>\n      <td>Charles Chaplin</td>\n      <td>...</td>\n      <td>Virginia Cherrill, Florence Lee, Harry Myers, ...</td>\n      <td>With the aid of a wealthy erratic tippler, a d...</td>\n      <td>8.5</td>\n      <td>162668</td>\n      <td>$ 1500000</td>\n      <td>$ 19181</td>\n      <td>$ 46008</td>\n      <td>99.0</td>\n      <td>295.0</td>\n      <td>122.0</td>\n    </tr>\n    <tr>\n      <th>2454</th>\n      <td>tt0027977</td>\n      <td>Tempi moderni</td>\n      <td>Modern Times</td>\n      <td>1936</td>\n      <td>1937-03-12</td>\n      <td>Comedy, Drama, Family</td>\n      <td>87</td>\n      <td>USA</td>\n      <td>English</td>\n      <td>Charles Chaplin</td>\n      <td>...</td>\n      <td>Charles Chaplin, Paulette Goddard, Henry Bergm...</td>\n      <td>The Tramp struggles to live in modern industri...</td>\n      <td>8.5</td>\n      <td>211250</td>\n      <td>$ 1500000</td>\n      <td>$ 163577</td>\n      <td>$ 457688</td>\n      <td>96.0</td>\n      <td>307.0</td>\n      <td>115.0</td>\n    </tr>\n    <tr>\n      <th>2795</th>\n      <td>tt0029453</td>\n      <td>Il bandito della Casbah</td>\n      <td>Pépé le Moko</td>\n      <td>1937</td>\n      <td>1937-10-22</td>\n      <td>Crime, Drama, Romance</td>\n      <td>94</td>\n      <td>France</td>\n      <td>French, Arabic</td>\n      <td>Julien Duvivier</td>\n      <td>...</td>\n      <td>Jean Gabin, Gabriel Gabrio, Saturnin Fabre, Fe...</td>\n      <td>A wanted gangster is both king and prisoner of...</td>\n      <td>7.7</td>\n      <td>6180</td>\n      <td>$ 60000</td>\n      <td>$ 155895</td>\n      <td>$ 155895</td>\n      <td>98.0</td>\n      <td>46.0</td>\n      <td>55.0</td>\n    </tr>\n    <tr>\n      <th>2827</th>\n      <td>tt0029583</td>\n      <td>Biancaneve e i sette nani</td>\n      <td>Snow White and the Seven Dwarfs</td>\n      <td>1937</td>\n      <td>1938-11-30</td>\n      <td>Animation, Family, Fantasy</td>\n      <td>83</td>\n      <td>USA</td>\n      <td>English</td>\n      <td>William Cottrell, David Hand</td>\n      <td>...</td>\n      <td>Roy Atwell, Stuart Buchanan, Adriana Caselotti...</td>\n      <td>Exiled into the dangerous forest by her wicked...</td>\n      <td>7.6</td>\n      <td>177157</td>\n      <td>$ 1499000</td>\n      <td>$ 184925486</td>\n      <td>$ 184925486</td>\n      <td>95.0</td>\n      <td>260.0</td>\n      <td>173.0</td>\n    </tr>\n    <tr>\n      <th>...</th>\n      <td>...</td>\n      <td>...</td>\n      <td>...</td>\n      <td>...</td>\n      <td>...</td>\n      <td>...</td>\n      <td>...</td>\n      <td>...</td>\n      <td>...</td>\n      <td>...</td>\n      <td>...</td>\n      <td>...</td>\n      <td>...</td>\n      <td>...</td>\n      <td>...</td>\n      <td>...</td>\n      <td>...</td>\n      <td>...</td>\n      <td>...</td>\n      <td>...</td>\n      <td>...</td>\n    </tr>\n    <tr>\n      <th>85266</th>\n      <td>tt9208444</td>\n      <td>Impractical Jokers: The Movie</td>\n      <td>Impractical Jokers: The Movie</td>\n      <td>2020</td>\n      <td>2020-02-28</td>\n      <td>Comedy</td>\n      <td>92</td>\n      <td>USA</td>\n      <td>English</td>\n      <td>Chris Henchy</td>\n      <td>...</td>\n      <td>Paula Abdul, Joe Gatto, James Murray, Brian Qu...</td>\n      <td>The story of a humiliating high school mishap ...</td>\n      <td>5.9</td>\n      <td>4105</td>\n      <td>$ 3000000</td>\n      <td>$ 10691091</td>\n      <td>$ 10691091</td>\n      <td>39.0</td>\n      <td>152.0</td>\n      <td>17.0</td>\n    </tr>\n    <tr>\n      <th>85274</th>\n      <td>tt9214832</td>\n      <td>Emma.</td>\n      <td>Emma.</td>\n      <td>2020</td>\n      <td>2020-03-27</td>\n      <td>Comedy, Drama</td>\n      <td>124</td>\n      <td>UK</td>\n      <td>English</td>\n      <td>Autumn de Wilde</td>\n      <td>...</td>\n      <td>Anya Taylor-Joy, Angus Imrie, Letty Thomas, Ge...</td>\n      <td>In 1800s England, a well meaning but selfish y...</td>\n      <td>6.7</td>\n      <td>19858</td>\n      <td>$ 10000000</td>\n      <td>$ 10055355</td>\n      <td>$ 25659965</td>\n      <td>71.0</td>\n      <td>314.0</td>\n      <td>188.0</td>\n    </tr>\n    <tr>\n      <th>85397</th>\n      <td>tt9354944</td>\n      <td>Jexi</td>\n      <td>Jexi</td>\n      <td>2019</td>\n      <td>2019-10-11</td>\n      <td>Comedy, Romance</td>\n      <td>84</td>\n      <td>USA, Canada</td>\n      <td>English</td>\n      <td>Jon Lucas, Scott Moore</td>\n      <td>...</td>\n      <td>Adam Devine, Alexandra Shipp, Rose Byrne, Ron ...</td>\n      <td>A comedy about what can happen when you love y...</td>\n      <td>6.1</td>\n      <td>17038</td>\n      <td>$ 5000000</td>\n      <td>$ 6546159</td>\n      <td>$ 9341824</td>\n      <td>39.0</td>\n      <td>234.0</td>\n      <td>42.0</td>\n    </tr>\n    <tr>\n      <th>85460</th>\n      <td>tt9426210</td>\n      <td>Weathering with You</td>\n      <td>Tenki no ko</td>\n      <td>2019</td>\n      <td>2019-10-14</td>\n      <td>Animation, Drama, Family</td>\n      <td>112</td>\n      <td>Japan, China</td>\n      <td>Japanese</td>\n      <td>Makoto Shinkai</td>\n      <td>...</td>\n      <td>Kotaro Daigo, Nana Mori, Shun Oguri, Sei Hirai...</td>\n      <td>A high-school boy who has run away to Tokyo be...</td>\n      <td>7.6</td>\n      <td>16277</td>\n      <td>$ 11100000</td>\n      <td>$ 7798743</td>\n      <td>$ 193176979</td>\n      <td>72.0</td>\n      <td>177.0</td>\n      <td>110.0</td>\n    </tr>\n    <tr>\n      <th>85740</th>\n      <td>tt9779516</td>\n      <td>Cosa mi lasci di te</td>\n      <td>I Still Believe</td>\n      <td>2020</td>\n      <td>2020-03-19</td>\n      <td>Biography, Drama, Music</td>\n      <td>116</td>\n      <td>USA</td>\n      <td>English</td>\n      <td>Andrew Erwin, Jon Erwin</td>\n      <td>...</td>\n      <td>K.J. Apa, Britt Robertson, Nathan Parsons, Gar...</td>\n      <td>The true-life story of Christian music star Je...</td>\n      <td>6.5</td>\n      <td>6196</td>\n      <td>$ 12000000</td>\n      <td>$ 9868521</td>\n      <td>$ 13681524</td>\n      <td>41.0</td>\n      <td>151.0</td>\n      <td>52.0</td>\n    </tr>\n  </tbody>\n</table>\n<p>6616 rows × 22 columns</p>\n</div>"
     },
     "metadata": {},
     "execution_count": 290
    }
   ],
   "source": [
    "Clean_IMDb_df = IMDb_data_df.dropna(how='any')\n",
    "Clean_IMDb_df"
   ]
  },
  {
   "cell_type": "code",
   "execution_count": 291,
   "metadata": {},
   "outputs": [
    {
     "output_type": "execute_result",
     "data": {
      "text/plain": [
       "          duration     avg_vote         votes    metascore  \\\n",
       "count  6616.000000  6616.000000  6.616000e+03  6616.000000   \n",
       "mean    108.004534     6.439722  9.693209e+04    54.899335   \n",
       "std      18.881481     0.981572  1.674032e+05    18.079011   \n",
       "min      63.000000     1.400000  1.150000e+02     1.000000   \n",
       "25%      95.000000     5.900000  1.209950e+04    42.000000   \n",
       "50%     105.000000     6.500000  3.880900e+04    55.000000   \n",
       "75%     118.000000     7.100000  1.062482e+05    68.000000   \n",
       "max     288.000000     9.300000  2.278845e+06   100.000000   \n",
       "\n",
       "       reviews_from_users  reviews_from_critics  \n",
       "count         6616.000000           6616.000000  \n",
       "mean           316.639964            146.771463  \n",
       "std            501.187727            124.944507  \n",
       "min              1.000000              1.000000  \n",
       "25%             77.750000             58.000000  \n",
       "50%            171.000000            112.000000  \n",
       "75%            357.000000            195.000000  \n",
       "max          10472.000000            999.000000  "
      ],
      "text/html": "<div>\n<style scoped>\n    .dataframe tbody tr th:only-of-type {\n        vertical-align: middle;\n    }\n\n    .dataframe tbody tr th {\n        vertical-align: top;\n    }\n\n    .dataframe thead th {\n        text-align: right;\n    }\n</style>\n<table border=\"1\" class=\"dataframe\">\n  <thead>\n    <tr style=\"text-align: right;\">\n      <th></th>\n      <th>duration</th>\n      <th>avg_vote</th>\n      <th>votes</th>\n      <th>metascore</th>\n      <th>reviews_from_users</th>\n      <th>reviews_from_critics</th>\n    </tr>\n  </thead>\n  <tbody>\n    <tr>\n      <th>count</th>\n      <td>6616.000000</td>\n      <td>6616.000000</td>\n      <td>6.616000e+03</td>\n      <td>6616.000000</td>\n      <td>6616.000000</td>\n      <td>6616.000000</td>\n    </tr>\n    <tr>\n      <th>mean</th>\n      <td>108.004534</td>\n      <td>6.439722</td>\n      <td>9.693209e+04</td>\n      <td>54.899335</td>\n      <td>316.639964</td>\n      <td>146.771463</td>\n    </tr>\n    <tr>\n      <th>std</th>\n      <td>18.881481</td>\n      <td>0.981572</td>\n      <td>1.674032e+05</td>\n      <td>18.079011</td>\n      <td>501.187727</td>\n      <td>124.944507</td>\n    </tr>\n    <tr>\n      <th>min</th>\n      <td>63.000000</td>\n      <td>1.400000</td>\n      <td>1.150000e+02</td>\n      <td>1.000000</td>\n      <td>1.000000</td>\n      <td>1.000000</td>\n    </tr>\n    <tr>\n      <th>25%</th>\n      <td>95.000000</td>\n      <td>5.900000</td>\n      <td>1.209950e+04</td>\n      <td>42.000000</td>\n      <td>77.750000</td>\n      <td>58.000000</td>\n    </tr>\n    <tr>\n      <th>50%</th>\n      <td>105.000000</td>\n      <td>6.500000</td>\n      <td>3.880900e+04</td>\n      <td>55.000000</td>\n      <td>171.000000</td>\n      <td>112.000000</td>\n    </tr>\n    <tr>\n      <th>75%</th>\n      <td>118.000000</td>\n      <td>7.100000</td>\n      <td>1.062482e+05</td>\n      <td>68.000000</td>\n      <td>357.000000</td>\n      <td>195.000000</td>\n    </tr>\n    <tr>\n      <th>max</th>\n      <td>288.000000</td>\n      <td>9.300000</td>\n      <td>2.278845e+06</td>\n      <td>100.000000</td>\n      <td>10472.000000</td>\n      <td>999.000000</td>\n    </tr>\n  </tbody>\n</table>\n</div>"
     },
     "metadata": {},
     "execution_count": 291
    }
   ],
   "source": [
    "Clean_IMDb_df.describe()"
   ]
  },
  {
   "cell_type": "code",
   "execution_count": 292,
   "metadata": {},
   "outputs": [
    {
     "output_type": "execute_result",
     "data": {
      "text/plain": [
       "     imdb_title_id                      Title  year  \\\n",
       "506      tt0017136                 Metropolis  1927   \n",
       "1048     tt0021749           Luci della città  1931   \n",
       "2454     tt0027977              Tempi moderni  1936   \n",
       "2795     tt0029453    Il bandito della Casbah  1937   \n",
       "2827     tt0029583  Biancaneve e i sette nani  1937   \n",
       "\n",
       "                                                 actors  \\\n",
       "506   Alfred Abel, Gustav Fröhlich, Rudolf Klein-Rog...   \n",
       "1048  Virginia Cherrill, Florence Lee, Harry Myers, ...   \n",
       "2454  Charles Chaplin, Paulette Goddard, Henry Bergm...   \n",
       "2795  Jean Gabin, Gabriel Gabrio, Saturnin Fabre, Fe...   \n",
       "2827  Roy Atwell, Stuart Buchanan, Adriana Caselotti...   \n",
       "\n",
       "                          director                       genre  country  \\\n",
       "506                     Fritz Lang               Drama, Sci-Fi  Germany   \n",
       "1048               Charles Chaplin      Comedy, Drama, Romance      USA   \n",
       "2454               Charles Chaplin       Comedy, Drama, Family      USA   \n",
       "2795               Julien Duvivier       Crime, Drama, Romance   France   \n",
       "2827  William Cottrell, David Hand  Animation, Family, Fantasy      USA   \n",
       "\n",
       "            language  duration  metascore  \n",
       "506           German       153       98.0  \n",
       "1048         English        87       99.0  \n",
       "2454         English        87       96.0  \n",
       "2795  French, Arabic        94       98.0  \n",
       "2827         English        83       95.0  "
      ],
      "text/html": "<div>\n<style scoped>\n    .dataframe tbody tr th:only-of-type {\n        vertical-align: middle;\n    }\n\n    .dataframe tbody tr th {\n        vertical-align: top;\n    }\n\n    .dataframe thead th {\n        text-align: right;\n    }\n</style>\n<table border=\"1\" class=\"dataframe\">\n  <thead>\n    <tr style=\"text-align: right;\">\n      <th></th>\n      <th>imdb_title_id</th>\n      <th>Title</th>\n      <th>year</th>\n      <th>actors</th>\n      <th>director</th>\n      <th>genre</th>\n      <th>country</th>\n      <th>language</th>\n      <th>duration</th>\n      <th>metascore</th>\n    </tr>\n  </thead>\n  <tbody>\n    <tr>\n      <th>506</th>\n      <td>tt0017136</td>\n      <td>Metropolis</td>\n      <td>1927</td>\n      <td>Alfred Abel, Gustav Fröhlich, Rudolf Klein-Rog...</td>\n      <td>Fritz Lang</td>\n      <td>Drama, Sci-Fi</td>\n      <td>Germany</td>\n      <td>German</td>\n      <td>153</td>\n      <td>98.0</td>\n    </tr>\n    <tr>\n      <th>1048</th>\n      <td>tt0021749</td>\n      <td>Luci della città</td>\n      <td>1931</td>\n      <td>Virginia Cherrill, Florence Lee, Harry Myers, ...</td>\n      <td>Charles Chaplin</td>\n      <td>Comedy, Drama, Romance</td>\n      <td>USA</td>\n      <td>English</td>\n      <td>87</td>\n      <td>99.0</td>\n    </tr>\n    <tr>\n      <th>2454</th>\n      <td>tt0027977</td>\n      <td>Tempi moderni</td>\n      <td>1936</td>\n      <td>Charles Chaplin, Paulette Goddard, Henry Bergm...</td>\n      <td>Charles Chaplin</td>\n      <td>Comedy, Drama, Family</td>\n      <td>USA</td>\n      <td>English</td>\n      <td>87</td>\n      <td>96.0</td>\n    </tr>\n    <tr>\n      <th>2795</th>\n      <td>tt0029453</td>\n      <td>Il bandito della Casbah</td>\n      <td>1937</td>\n      <td>Jean Gabin, Gabriel Gabrio, Saturnin Fabre, Fe...</td>\n      <td>Julien Duvivier</td>\n      <td>Crime, Drama, Romance</td>\n      <td>France</td>\n      <td>French, Arabic</td>\n      <td>94</td>\n      <td>98.0</td>\n    </tr>\n    <tr>\n      <th>2827</th>\n      <td>tt0029583</td>\n      <td>Biancaneve e i sette nani</td>\n      <td>1937</td>\n      <td>Roy Atwell, Stuart Buchanan, Adriana Caselotti...</td>\n      <td>William Cottrell, David Hand</td>\n      <td>Animation, Family, Fantasy</td>\n      <td>USA</td>\n      <td>English</td>\n      <td>83</td>\n      <td>95.0</td>\n    </tr>\n  </tbody>\n</table>\n</div>"
     },
     "metadata": {},
     "execution_count": 292
    }
   ],
   "source": [
    "#Create new data with select columns\n",
    "new_IMDb_data_df = Clean_IMDb_df[['imdb_title_id', 'Title', 'year', 'actors', 'director', 'genre', 'country', 'language', 'duration', 'metascore']].copy()\n",
    "new_IMDb_data_df.head()"
   ]
  },
  {
   "cell_type": "code",
   "execution_count": null,
   "metadata": {},
   "outputs": [],
   "source": []
  },
  {
   "cell_type": "code",
   "execution_count": 293,
   "metadata": {},
   "outputs": [
    {
     "output_type": "execute_result",
     "data": {
      "text/plain": [
       "   Unnamed: 0  ID                           Title  Year Age  IMDb  \\\n",
       "0           0   1                       Inception  2010  13   8.8   \n",
       "1           1   2                      The Matrix  1999  18   8.7   \n",
       "2           2   3          Avengers: Infinity War  2018  13   8.5   \n",
       "3           3   4              Back to the Future  1985   7   8.5   \n",
       "4           4   5  The Good, the Bad and the Ugly  1966  18   8.8   \n",
       "\n",
       "  Rotten Tomatoes  Netflix  Hulu  Prime Video  Disney+  Type  \\\n",
       "0             87%        1     0            0        0     0   \n",
       "1             87%        1     0            0        0     0   \n",
       "2             84%        1     0            0        0     0   \n",
       "3             96%        1     0            0        0     0   \n",
       "4             97%        1     0            1        0     0   \n",
       "\n",
       "                        Directors                            Genres  \\\n",
       "0               Christopher Nolan  Action,Adventure,Sci-Fi,Thriller   \n",
       "1  Lana Wachowski,Lilly Wachowski                     Action,Sci-Fi   \n",
       "2         Anthony Russo,Joe Russo           Action,Adventure,Sci-Fi   \n",
       "3                 Robert Zemeckis           Adventure,Comedy,Sci-Fi   \n",
       "4                    Sergio Leone                           Western   \n",
       "\n",
       "                        Country                 Language  Runtime  \n",
       "0  United States,United Kingdom  English,Japanese,French    148.0  \n",
       "1                 United States                  English    136.0  \n",
       "2                 United States                  English    149.0  \n",
       "3                 United States                  English    116.0  \n",
       "4      Italy,Spain,West Germany                  Italian    161.0  "
      ],
      "text/html": "<div>\n<style scoped>\n    .dataframe tbody tr th:only-of-type {\n        vertical-align: middle;\n    }\n\n    .dataframe tbody tr th {\n        vertical-align: top;\n    }\n\n    .dataframe thead th {\n        text-align: right;\n    }\n</style>\n<table border=\"1\" class=\"dataframe\">\n  <thead>\n    <tr style=\"text-align: right;\">\n      <th></th>\n      <th>Unnamed: 0</th>\n      <th>ID</th>\n      <th>Title</th>\n      <th>Year</th>\n      <th>Age</th>\n      <th>IMDb</th>\n      <th>Rotten Tomatoes</th>\n      <th>Netflix</th>\n      <th>Hulu</th>\n      <th>Prime Video</th>\n      <th>Disney+</th>\n      <th>Type</th>\n      <th>Directors</th>\n      <th>Genres</th>\n      <th>Country</th>\n      <th>Language</th>\n      <th>Runtime</th>\n    </tr>\n  </thead>\n  <tbody>\n    <tr>\n      <th>0</th>\n      <td>0</td>\n      <td>1</td>\n      <td>Inception</td>\n      <td>2010</td>\n      <td>13</td>\n      <td>8.8</td>\n      <td>87%</td>\n      <td>1</td>\n      <td>0</td>\n      <td>0</td>\n      <td>0</td>\n      <td>0</td>\n      <td>Christopher Nolan</td>\n      <td>Action,Adventure,Sci-Fi,Thriller</td>\n      <td>United States,United Kingdom</td>\n      <td>English,Japanese,French</td>\n      <td>148.0</td>\n    </tr>\n    <tr>\n      <th>1</th>\n      <td>1</td>\n      <td>2</td>\n      <td>The Matrix</td>\n      <td>1999</td>\n      <td>18</td>\n      <td>8.7</td>\n      <td>87%</td>\n      <td>1</td>\n      <td>0</td>\n      <td>0</td>\n      <td>0</td>\n      <td>0</td>\n      <td>Lana Wachowski,Lilly Wachowski</td>\n      <td>Action,Sci-Fi</td>\n      <td>United States</td>\n      <td>English</td>\n      <td>136.0</td>\n    </tr>\n    <tr>\n      <th>2</th>\n      <td>2</td>\n      <td>3</td>\n      <td>Avengers: Infinity War</td>\n      <td>2018</td>\n      <td>13</td>\n      <td>8.5</td>\n      <td>84%</td>\n      <td>1</td>\n      <td>0</td>\n      <td>0</td>\n      <td>0</td>\n      <td>0</td>\n      <td>Anthony Russo,Joe Russo</td>\n      <td>Action,Adventure,Sci-Fi</td>\n      <td>United States</td>\n      <td>English</td>\n      <td>149.0</td>\n    </tr>\n    <tr>\n      <th>3</th>\n      <td>3</td>\n      <td>4</td>\n      <td>Back to the Future</td>\n      <td>1985</td>\n      <td>7</td>\n      <td>8.5</td>\n      <td>96%</td>\n      <td>1</td>\n      <td>0</td>\n      <td>0</td>\n      <td>0</td>\n      <td>0</td>\n      <td>Robert Zemeckis</td>\n      <td>Adventure,Comedy,Sci-Fi</td>\n      <td>United States</td>\n      <td>English</td>\n      <td>116.0</td>\n    </tr>\n    <tr>\n      <th>4</th>\n      <td>4</td>\n      <td>5</td>\n      <td>The Good, the Bad and the Ugly</td>\n      <td>1966</td>\n      <td>18</td>\n      <td>8.8</td>\n      <td>97%</td>\n      <td>1</td>\n      <td>0</td>\n      <td>1</td>\n      <td>0</td>\n      <td>0</td>\n      <td>Sergio Leone</td>\n      <td>Western</td>\n      <td>Italy,Spain,West Germany</td>\n      <td>Italian</td>\n      <td>161.0</td>\n    </tr>\n  </tbody>\n</table>\n</div>"
     },
     "metadata": {},
     "execution_count": 293
    }
   ],
   "source": [
    "csv_file2 = \"MoviesOnStreaming.csv\"\n",
    "MoviesOnStreaming_data_df = pd.read_csv(csv_file2)\n",
    "MoviesOnStreaming_data_df .head()\n"
   ]
  },
  {
   "cell_type": "code",
   "execution_count": 294,
   "metadata": {},
   "outputs": [
    {
     "output_type": "execute_result",
     "data": {
      "text/plain": [
       "       Unnamed: 0     ID                           Title  Year Age  IMDb  \\\n",
       "0               0      1                       Inception  2010  13   8.8   \n",
       "1               1      2                      The Matrix  1999  18   8.7   \n",
       "2               2      3          Avengers: Infinity War  2018  13   8.5   \n",
       "3               3      4              Back to the Future  1985   7   8.5   \n",
       "4               4      5  The Good, the Bad and the Ugly  1966  18   8.8   \n",
       "...           ...    ...                             ...   ...  ..   ...   \n",
       "16657       16657  16658    A Kid in King Arthur's Court  1995   7   4.7   \n",
       "16671       16671  16672          George of the Jungle 2  2003   7   3.3   \n",
       "16677       16677  16678                   That Darn Cat  1997   7   4.7   \n",
       "16687       16687  16688                          Kazaam  1996   7   3.0   \n",
       "16705       16705  16706                Meet the Deedles  1998   7   4.1   \n",
       "\n",
       "      Rotten Tomatoes  Netflix  Hulu  Prime Video  Disney+  Type  \\\n",
       "0                 87%        1     0            0        0     0   \n",
       "1                 87%        1     0            0        0     0   \n",
       "2                 84%        1     0            0        0     0   \n",
       "3                 96%        1     0            0        0     0   \n",
       "4                 97%        1     0            1        0     0   \n",
       "...               ...      ...   ...          ...      ...   ...   \n",
       "16657              5%        0     0            0        1     0   \n",
       "16671             17%        0     0            0        1     0   \n",
       "16677             13%        0     0            0        1     0   \n",
       "16687              6%        0     0            0        1     0   \n",
       "16705              7%        0     0            0        1     0   \n",
       "\n",
       "                            Directors  \\\n",
       "0                   Christopher Nolan   \n",
       "1      Lana Wachowski,Lilly Wachowski   \n",
       "2             Anthony Russo,Joe Russo   \n",
       "3                     Robert Zemeckis   \n",
       "4                        Sergio Leone   \n",
       "...                               ...   \n",
       "16657                Michael Gottlieb   \n",
       "16671                  David Grossman   \n",
       "16677                Robert Stevenson   \n",
       "16687             Paul Michael Glaser   \n",
       "16705                     Steve Boyum   \n",
       "\n",
       "                                        Genres  \\\n",
       "0             Action,Adventure,Sci-Fi,Thriller   \n",
       "1                                Action,Sci-Fi   \n",
       "2                      Action,Adventure,Sci-Fi   \n",
       "3                      Adventure,Comedy,Sci-Fi   \n",
       "4                                      Western   \n",
       "...                                        ...   \n",
       "16657  Adventure,Comedy,Family,Fantasy,Romance   \n",
       "16671                  Adventure,Comedy,Family   \n",
       "16677             Comedy,Crime,Family,Thriller   \n",
       "16687            Comedy,Family,Fantasy,Musical   \n",
       "16705                            Comedy,Family   \n",
       "\n",
       "                                    Country                 Language  Runtime  \n",
       "0              United States,United Kingdom  English,Japanese,French    148.0  \n",
       "1                             United States                  English    136.0  \n",
       "2                             United States                  English    149.0  \n",
       "3                             United States                  English    116.0  \n",
       "4                  Italy,Spain,West Germany                  Italian    161.0  \n",
       "...                                     ...                      ...      ...  \n",
       "16657  United States,Hungary,United Kingdom                  English     89.0  \n",
       "16671               United States,Australia                  English     87.0  \n",
       "16677                         United States           English,French    116.0  \n",
       "16687                         United States                  English     93.0  \n",
       "16705                         United States                  English     93.0  \n",
       "\n",
       "[3301 rows x 17 columns]"
      ],
      "text/html": "<div>\n<style scoped>\n    .dataframe tbody tr th:only-of-type {\n        vertical-align: middle;\n    }\n\n    .dataframe tbody tr th {\n        vertical-align: top;\n    }\n\n    .dataframe thead th {\n        text-align: right;\n    }\n</style>\n<table border=\"1\" class=\"dataframe\">\n  <thead>\n    <tr style=\"text-align: right;\">\n      <th></th>\n      <th>Unnamed: 0</th>\n      <th>ID</th>\n      <th>Title</th>\n      <th>Year</th>\n      <th>Age</th>\n      <th>IMDb</th>\n      <th>Rotten Tomatoes</th>\n      <th>Netflix</th>\n      <th>Hulu</th>\n      <th>Prime Video</th>\n      <th>Disney+</th>\n      <th>Type</th>\n      <th>Directors</th>\n      <th>Genres</th>\n      <th>Country</th>\n      <th>Language</th>\n      <th>Runtime</th>\n    </tr>\n  </thead>\n  <tbody>\n    <tr>\n      <th>0</th>\n      <td>0</td>\n      <td>1</td>\n      <td>Inception</td>\n      <td>2010</td>\n      <td>13</td>\n      <td>8.8</td>\n      <td>87%</td>\n      <td>1</td>\n      <td>0</td>\n      <td>0</td>\n      <td>0</td>\n      <td>0</td>\n      <td>Christopher Nolan</td>\n      <td>Action,Adventure,Sci-Fi,Thriller</td>\n      <td>United States,United Kingdom</td>\n      <td>English,Japanese,French</td>\n      <td>148.0</td>\n    </tr>\n    <tr>\n      <th>1</th>\n      <td>1</td>\n      <td>2</td>\n      <td>The Matrix</td>\n      <td>1999</td>\n      <td>18</td>\n      <td>8.7</td>\n      <td>87%</td>\n      <td>1</td>\n      <td>0</td>\n      <td>0</td>\n      <td>0</td>\n      <td>0</td>\n      <td>Lana Wachowski,Lilly Wachowski</td>\n      <td>Action,Sci-Fi</td>\n      <td>United States</td>\n      <td>English</td>\n      <td>136.0</td>\n    </tr>\n    <tr>\n      <th>2</th>\n      <td>2</td>\n      <td>3</td>\n      <td>Avengers: Infinity War</td>\n      <td>2018</td>\n      <td>13</td>\n      <td>8.5</td>\n      <td>84%</td>\n      <td>1</td>\n      <td>0</td>\n      <td>0</td>\n      <td>0</td>\n      <td>0</td>\n      <td>Anthony Russo,Joe Russo</td>\n      <td>Action,Adventure,Sci-Fi</td>\n      <td>United States</td>\n      <td>English</td>\n      <td>149.0</td>\n    </tr>\n    <tr>\n      <th>3</th>\n      <td>3</td>\n      <td>4</td>\n      <td>Back to the Future</td>\n      <td>1985</td>\n      <td>7</td>\n      <td>8.5</td>\n      <td>96%</td>\n      <td>1</td>\n      <td>0</td>\n      <td>0</td>\n      <td>0</td>\n      <td>0</td>\n      <td>Robert Zemeckis</td>\n      <td>Adventure,Comedy,Sci-Fi</td>\n      <td>United States</td>\n      <td>English</td>\n      <td>116.0</td>\n    </tr>\n    <tr>\n      <th>4</th>\n      <td>4</td>\n      <td>5</td>\n      <td>The Good, the Bad and the Ugly</td>\n      <td>1966</td>\n      <td>18</td>\n      <td>8.8</td>\n      <td>97%</td>\n      <td>1</td>\n      <td>0</td>\n      <td>1</td>\n      <td>0</td>\n      <td>0</td>\n      <td>Sergio Leone</td>\n      <td>Western</td>\n      <td>Italy,Spain,West Germany</td>\n      <td>Italian</td>\n      <td>161.0</td>\n    </tr>\n    <tr>\n      <th>...</th>\n      <td>...</td>\n      <td>...</td>\n      <td>...</td>\n      <td>...</td>\n      <td>...</td>\n      <td>...</td>\n      <td>...</td>\n      <td>...</td>\n      <td>...</td>\n      <td>...</td>\n      <td>...</td>\n      <td>...</td>\n      <td>...</td>\n      <td>...</td>\n      <td>...</td>\n      <td>...</td>\n      <td>...</td>\n    </tr>\n    <tr>\n      <th>16657</th>\n      <td>16657</td>\n      <td>16658</td>\n      <td>A Kid in King Arthur's Court</td>\n      <td>1995</td>\n      <td>7</td>\n      <td>4.7</td>\n      <td>5%</td>\n      <td>0</td>\n      <td>0</td>\n      <td>0</td>\n      <td>1</td>\n      <td>0</td>\n      <td>Michael Gottlieb</td>\n      <td>Adventure,Comedy,Family,Fantasy,Romance</td>\n      <td>United States,Hungary,United Kingdom</td>\n      <td>English</td>\n      <td>89.0</td>\n    </tr>\n    <tr>\n      <th>16671</th>\n      <td>16671</td>\n      <td>16672</td>\n      <td>George of the Jungle 2</td>\n      <td>2003</td>\n      <td>7</td>\n      <td>3.3</td>\n      <td>17%</td>\n      <td>0</td>\n      <td>0</td>\n      <td>0</td>\n      <td>1</td>\n      <td>0</td>\n      <td>David Grossman</td>\n      <td>Adventure,Comedy,Family</td>\n      <td>United States,Australia</td>\n      <td>English</td>\n      <td>87.0</td>\n    </tr>\n    <tr>\n      <th>16677</th>\n      <td>16677</td>\n      <td>16678</td>\n      <td>That Darn Cat</td>\n      <td>1997</td>\n      <td>7</td>\n      <td>4.7</td>\n      <td>13%</td>\n      <td>0</td>\n      <td>0</td>\n      <td>0</td>\n      <td>1</td>\n      <td>0</td>\n      <td>Robert Stevenson</td>\n      <td>Comedy,Crime,Family,Thriller</td>\n      <td>United States</td>\n      <td>English,French</td>\n      <td>116.0</td>\n    </tr>\n    <tr>\n      <th>16687</th>\n      <td>16687</td>\n      <td>16688</td>\n      <td>Kazaam</td>\n      <td>1996</td>\n      <td>7</td>\n      <td>3.0</td>\n      <td>6%</td>\n      <td>0</td>\n      <td>0</td>\n      <td>0</td>\n      <td>1</td>\n      <td>0</td>\n      <td>Paul Michael Glaser</td>\n      <td>Comedy,Family,Fantasy,Musical</td>\n      <td>United States</td>\n      <td>English</td>\n      <td>93.0</td>\n    </tr>\n    <tr>\n      <th>16705</th>\n      <td>16705</td>\n      <td>16706</td>\n      <td>Meet the Deedles</td>\n      <td>1998</td>\n      <td>7</td>\n      <td>4.1</td>\n      <td>7%</td>\n      <td>0</td>\n      <td>0</td>\n      <td>0</td>\n      <td>1</td>\n      <td>0</td>\n      <td>Steve Boyum</td>\n      <td>Comedy,Family</td>\n      <td>United States</td>\n      <td>English</td>\n      <td>93.0</td>\n    </tr>\n  </tbody>\n</table>\n<p>3301 rows × 17 columns</p>\n</div>"
     },
     "metadata": {},
     "execution_count": 294
    }
   ],
   "source": [
    "Clean_MoviesOnStreaming_df = MoviesOnStreaming_data_df.dropna(how='any')\n",
    "Clean_MoviesOnStreaming_df"
   ]
  },
  {
   "cell_type": "code",
   "execution_count": 295,
   "metadata": {},
   "outputs": [
    {
     "output_type": "execute_result",
     "data": {
      "text/plain": [
       "                            Title  Year                            Genres  \\\n",
       "0                       Inception  2010  Action,Adventure,Sci-Fi,Thriller   \n",
       "1                      The Matrix  1999                     Action,Sci-Fi   \n",
       "2          Avengers: Infinity War  2018           Action,Adventure,Sci-Fi   \n",
       "3              Back to the Future  1985           Adventure,Comedy,Sci-Fi   \n",
       "4  The Good, the Bad and the Ugly  1966                           Western   \n",
       "\n",
       "   Runtime                 Language                       Country  \\\n",
       "0    148.0  English,Japanese,French  United States,United Kingdom   \n",
       "1    136.0                  English                 United States   \n",
       "2    149.0                  English                 United States   \n",
       "3    116.0                  English                 United States   \n",
       "4    161.0                  Italian      Italy,Spain,West Germany   \n",
       "\n",
       "  Rotten Tomatoes  \n",
       "0             87%  \n",
       "1             87%  \n",
       "2             84%  \n",
       "3             96%  \n",
       "4             97%  "
      ],
      "text/html": "<div>\n<style scoped>\n    .dataframe tbody tr th:only-of-type {\n        vertical-align: middle;\n    }\n\n    .dataframe tbody tr th {\n        vertical-align: top;\n    }\n\n    .dataframe thead th {\n        text-align: right;\n    }\n</style>\n<table border=\"1\" class=\"dataframe\">\n  <thead>\n    <tr style=\"text-align: right;\">\n      <th></th>\n      <th>Title</th>\n      <th>Year</th>\n      <th>Genres</th>\n      <th>Runtime</th>\n      <th>Language</th>\n      <th>Country</th>\n      <th>Rotten Tomatoes</th>\n    </tr>\n  </thead>\n  <tbody>\n    <tr>\n      <th>0</th>\n      <td>Inception</td>\n      <td>2010</td>\n      <td>Action,Adventure,Sci-Fi,Thriller</td>\n      <td>148.0</td>\n      <td>English,Japanese,French</td>\n      <td>United States,United Kingdom</td>\n      <td>87%</td>\n    </tr>\n    <tr>\n      <th>1</th>\n      <td>The Matrix</td>\n      <td>1999</td>\n      <td>Action,Sci-Fi</td>\n      <td>136.0</td>\n      <td>English</td>\n      <td>United States</td>\n      <td>87%</td>\n    </tr>\n    <tr>\n      <th>2</th>\n      <td>Avengers: Infinity War</td>\n      <td>2018</td>\n      <td>Action,Adventure,Sci-Fi</td>\n      <td>149.0</td>\n      <td>English</td>\n      <td>United States</td>\n      <td>84%</td>\n    </tr>\n    <tr>\n      <th>3</th>\n      <td>Back to the Future</td>\n      <td>1985</td>\n      <td>Adventure,Comedy,Sci-Fi</td>\n      <td>116.0</td>\n      <td>English</td>\n      <td>United States</td>\n      <td>96%</td>\n    </tr>\n    <tr>\n      <th>4</th>\n      <td>The Good, the Bad and the Ugly</td>\n      <td>1966</td>\n      <td>Western</td>\n      <td>161.0</td>\n      <td>Italian</td>\n      <td>Italy,Spain,West Germany</td>\n      <td>97%</td>\n    </tr>\n  </tbody>\n</table>\n</div>"
     },
     "metadata": {},
     "execution_count": 295
    }
   ],
   "source": [
    "new_IMoviesOnStreaming_data_df = Clean_MoviesOnStreaming_df[['Title', 'Year', 'Genres', 'Runtime', 'Language', 'Country', 'Rotten Tomatoes']].copy()\n",
    "new_IMoviesOnStreaming_data_df.head()"
   ]
  },
  {
   "cell_type": "code",
   "execution_count": null,
   "metadata": {},
   "outputs": [],
   "source": []
  },
  {
   "cell_type": "code",
   "execution_count": 296,
   "metadata": {},
   "outputs": [
    {
     "output_type": "execute_result",
     "data": {
      "text/plain": [
       "  imdb_name_id             name               birth_name  height  \\\n",
       "0    nm0000001     Fred Astaire  Frederic Austerlitz Jr.   177.0   \n",
       "1    nm0000002    Lauren Bacall        Betty Joan Perske   174.0   \n",
       "2    nm0000003  Brigitte Bardot          Brigitte Bardot   166.0   \n",
       "3    nm0000004     John Belushi        John Adam Belushi   170.0   \n",
       "4    nm0000005   Ingmar Bergman     Ernst Ingmar Bergman   179.0   \n",
       "\n",
       "                                                 bio  \\\n",
       "0  Fred Astaire was born in Omaha, Nebraska, to J...   \n",
       "1  Lauren Bacall was born Betty Joan Perske on Se...   \n",
       "2  Brigitte Bardot was born on September 28, 1934...   \n",
       "3  John Belushi was born in Chicago, Illinois, US...   \n",
       "4  Ernst Ingmar Bergman was born July 14, 1918, t...   \n",
       "\n",
       "                                       birth_details date_of_birth  \\\n",
       "0               May 10, 1899 in Omaha, Nebraska, USA    1899-05-10   \n",
       "1  September 16, 1924 in The Bronx, New York City...    1924-09-16   \n",
       "2                September 28, 1934 in Paris, France    1934-09-28   \n",
       "3         January 24, 1949 in Chicago, Illinois, USA    1949-01-24   \n",
       "4      July 14, 1918 in Uppsala, Uppsala län, Sweden    1918-07-14   \n",
       "\n",
       "                            place_of_birth  \\\n",
       "0                     Omaha, Nebraska, USA   \n",
       "1  The Bronx, New York City, New York, USA   \n",
       "2                            Paris, France   \n",
       "3                   Chicago, Illinois, USA   \n",
       "4             Uppsala, Uppsala län, Sweden   \n",
       "\n",
       "                                       death_details date_of_death  \\\n",
       "0  June 22, 1987 in Los Angeles, California, USA ...    1987-06-22   \n",
       "1  August 12, 2014 in New York City, New York, US...    2014-08-12   \n",
       "2                                                NaN           NaN   \n",
       "3  March 5, 1982 in Hollywood, Los Angeles, Calif...    1982-03-05   \n",
       "4  July 30, 2007 in Fårö, Gotlands län, Sweden  (...    2007-07-30   \n",
       "\n",
       "                              place_of_death  \\\n",
       "0             Los Angeles, California, USA     \n",
       "1             New York City, New York, USA     \n",
       "2                                        NaN   \n",
       "3  Hollywood, Los Angeles, California, USA     \n",
       "4               Fårö, Gotlands län, Sweden     \n",
       "\n",
       "                         reason_of_death  \\\n",
       "0                              pneumonia   \n",
       "1                                 stroke   \n",
       "2                                    NaN   \n",
       "3  acute cocaine and heroin intoxication   \n",
       "4                         natural causes   \n",
       "\n",
       "                                      spouses_string  spouses  divorces  \\\n",
       "0  Robyn Smith  (27 June 1980 - 22 June 1987) (hi...        2         0   \n",
       "1  Jason Robards  (4 July 1961 - 10 September 196...        2         1   \n",
       "2  Bernard d'Ormale  (16 August 1992 - present)\\n...        4         3   \n",
       "3  Judith Belushi-Pisano  (31 December 1976 - 5 M...        1         0   \n",
       "4  Ingrid Bergman  (11 November 1971 - 20 May 199...        5         4   \n",
       "\n",
       "   spouses_with_children  children  \n",
       "0                      1         2  \n",
       "1                      2         3  \n",
       "2                      1         1  \n",
       "3                      0         0  \n",
       "4                      5         8  "
      ],
      "text/html": "<div>\n<style scoped>\n    .dataframe tbody tr th:only-of-type {\n        vertical-align: middle;\n    }\n\n    .dataframe tbody tr th {\n        vertical-align: top;\n    }\n\n    .dataframe thead th {\n        text-align: right;\n    }\n</style>\n<table border=\"1\" class=\"dataframe\">\n  <thead>\n    <tr style=\"text-align: right;\">\n      <th></th>\n      <th>imdb_name_id</th>\n      <th>name</th>\n      <th>birth_name</th>\n      <th>height</th>\n      <th>bio</th>\n      <th>birth_details</th>\n      <th>date_of_birth</th>\n      <th>place_of_birth</th>\n      <th>death_details</th>\n      <th>date_of_death</th>\n      <th>place_of_death</th>\n      <th>reason_of_death</th>\n      <th>spouses_string</th>\n      <th>spouses</th>\n      <th>divorces</th>\n      <th>spouses_with_children</th>\n      <th>children</th>\n    </tr>\n  </thead>\n  <tbody>\n    <tr>\n      <th>0</th>\n      <td>nm0000001</td>\n      <td>Fred Astaire</td>\n      <td>Frederic Austerlitz Jr.</td>\n      <td>177.0</td>\n      <td>Fred Astaire was born in Omaha, Nebraska, to J...</td>\n      <td>May 10, 1899 in Omaha, Nebraska, USA</td>\n      <td>1899-05-10</td>\n      <td>Omaha, Nebraska, USA</td>\n      <td>June 22, 1987 in Los Angeles, California, USA ...</td>\n      <td>1987-06-22</td>\n      <td>Los Angeles, California, USA</td>\n      <td>pneumonia</td>\n      <td>Robyn Smith  (27 June 1980 - 22 June 1987) (hi...</td>\n      <td>2</td>\n      <td>0</td>\n      <td>1</td>\n      <td>2</td>\n    </tr>\n    <tr>\n      <th>1</th>\n      <td>nm0000002</td>\n      <td>Lauren Bacall</td>\n      <td>Betty Joan Perske</td>\n      <td>174.0</td>\n      <td>Lauren Bacall was born Betty Joan Perske on Se...</td>\n      <td>September 16, 1924 in The Bronx, New York City...</td>\n      <td>1924-09-16</td>\n      <td>The Bronx, New York City, New York, USA</td>\n      <td>August 12, 2014 in New York City, New York, US...</td>\n      <td>2014-08-12</td>\n      <td>New York City, New York, USA</td>\n      <td>stroke</td>\n      <td>Jason Robards  (4 July 1961 - 10 September 196...</td>\n      <td>2</td>\n      <td>1</td>\n      <td>2</td>\n      <td>3</td>\n    </tr>\n    <tr>\n      <th>2</th>\n      <td>nm0000003</td>\n      <td>Brigitte Bardot</td>\n      <td>Brigitte Bardot</td>\n      <td>166.0</td>\n      <td>Brigitte Bardot was born on September 28, 1934...</td>\n      <td>September 28, 1934 in Paris, France</td>\n      <td>1934-09-28</td>\n      <td>Paris, France</td>\n      <td>NaN</td>\n      <td>NaN</td>\n      <td>NaN</td>\n      <td>NaN</td>\n      <td>Bernard d'Ormale  (16 August 1992 - present)\\n...</td>\n      <td>4</td>\n      <td>3</td>\n      <td>1</td>\n      <td>1</td>\n    </tr>\n    <tr>\n      <th>3</th>\n      <td>nm0000004</td>\n      <td>John Belushi</td>\n      <td>John Adam Belushi</td>\n      <td>170.0</td>\n      <td>John Belushi was born in Chicago, Illinois, US...</td>\n      <td>January 24, 1949 in Chicago, Illinois, USA</td>\n      <td>1949-01-24</td>\n      <td>Chicago, Illinois, USA</td>\n      <td>March 5, 1982 in Hollywood, Los Angeles, Calif...</td>\n      <td>1982-03-05</td>\n      <td>Hollywood, Los Angeles, California, USA</td>\n      <td>acute cocaine and heroin intoxication</td>\n      <td>Judith Belushi-Pisano  (31 December 1976 - 5 M...</td>\n      <td>1</td>\n      <td>0</td>\n      <td>0</td>\n      <td>0</td>\n    </tr>\n    <tr>\n      <th>4</th>\n      <td>nm0000005</td>\n      <td>Ingmar Bergman</td>\n      <td>Ernst Ingmar Bergman</td>\n      <td>179.0</td>\n      <td>Ernst Ingmar Bergman was born July 14, 1918, t...</td>\n      <td>July 14, 1918 in Uppsala, Uppsala län, Sweden</td>\n      <td>1918-07-14</td>\n      <td>Uppsala, Uppsala län, Sweden</td>\n      <td>July 30, 2007 in Fårö, Gotlands län, Sweden  (...</td>\n      <td>2007-07-30</td>\n      <td>Fårö, Gotlands län, Sweden</td>\n      <td>natural causes</td>\n      <td>Ingrid Bergman  (11 November 1971 - 20 May 199...</td>\n      <td>5</td>\n      <td>4</td>\n      <td>5</td>\n      <td>8</td>\n    </tr>\n  </tbody>\n</table>\n</div>"
     },
     "metadata": {},
     "execution_count": 296
    }
   ],
   "source": [
    "csv_file3 = \"IMDb_names.csv\"\n",
    "IMDb_name_data_df = pd.read_csv(csv_file3)\n",
    "IMDb_name_data_df.head()"
   ]
  },
  {
   "cell_type": "code",
   "execution_count": 297,
   "metadata": {},
   "outputs": [
    {
     "output_type": "execute_result",
     "data": {
      "text/plain": [
       "       imdb_name_id            name               birth_name  height  \\\n",
       "0         nm0000001    Fred Astaire  Frederic Austerlitz Jr.   177.0   \n",
       "1         nm0000002   Lauren Bacall        Betty Joan Perske   174.0   \n",
       "3         nm0000004    John Belushi        John Adam Belushi   170.0   \n",
       "4         nm0000005  Ingmar Bergman     Ernst Ingmar Bergman   179.0   \n",
       "5         nm0000006  Ingrid Bergman           Ingrid Bergman   178.0   \n",
       "...             ...             ...                      ...     ...   \n",
       "245609    nm4881574      Chris Kyle   Christopher Scott Kyle   188.0   \n",
       "252816    nm5410196     Tony Mendez    Antonio Joseph Mendez   170.0   \n",
       "262067    nm6284246     August Ames       Mercedes Grabowski   168.0   \n",
       "265203    nm6649402     Salman Shah  Shahriar Chowdhury Emon   173.0   \n",
       "270769    nm7390393  Aachi Manorama              Gopishantha   160.0   \n",
       "\n",
       "                                                      bio  \\\n",
       "0       Fred Astaire was born in Omaha, Nebraska, to J...   \n",
       "1       Lauren Bacall was born Betty Joan Perske on Se...   \n",
       "3       John Belushi was born in Chicago, Illinois, US...   \n",
       "4       Ernst Ingmar Bergman was born July 14, 1918, t...   \n",
       "5       Ingrid Bergman was one of the greatest actress...   \n",
       "...                                                   ...   \n",
       "245609  Chris Kyle was born on April 8, 1974 in Odessa...   \n",
       "252816  Tony Mendez was born on November 15, 1940 in E...   \n",
       "262067  Luscious, buxom, and shapely 5'6\" brunette kno...   \n",
       "265203  Salman Shah was born on September 19, 1971 in ...   \n",
       "270769  Manorama is a veteran Tamil actress who has ac...   \n",
       "\n",
       "                                            birth_details date_of_birth  \\\n",
       "0                    May 10, 1899 in Omaha, Nebraska, USA    1899-05-10   \n",
       "1       September 16, 1924 in The Bronx, New York City...    1924-09-16   \n",
       "3              January 24, 1949 in Chicago, Illinois, USA    1949-01-24   \n",
       "4           July 14, 1918 in Uppsala, Uppsala län, Sweden    1918-07-14   \n",
       "5                    August 29, 1915 in Stockholm, Sweden    1915-08-29   \n",
       "...                                                   ...           ...   \n",
       "245609                April 8, 1974 in Odessa, Texas, USA    1974-04-08   \n",
       "252816           November 15, 1940 in Eureka, Nevada, USA    1940-11-15   \n",
       "262067             August 23, 1994 in Nova Scotia, Canada    1994-08-23   \n",
       "265203  September 19, 1971 in Daria para, Sylhet, Bang...    1971-09-19   \n",
       "270769  May 26, 1937 in Mannargudi, Madras Presidency,...    1937-05-26   \n",
       "\n",
       "                                      place_of_birth  \\\n",
       "0                               Omaha, Nebraska, USA   \n",
       "1            The Bronx, New York City, New York, USA   \n",
       "3                             Chicago, Illinois, USA   \n",
       "4                       Uppsala, Uppsala län, Sweden   \n",
       "5                                  Stockholm, Sweden   \n",
       "...                                              ...   \n",
       "245609                            Odessa, Texas, USA   \n",
       "252816                           Eureka, Nevada, USA   \n",
       "262067                           Nova Scotia, Canada   \n",
       "265203                Daria para, Sylhet, Bangladesh   \n",
       "270769  Mannargudi, Madras Presidency, British India   \n",
       "\n",
       "                                            death_details date_of_death  \\\n",
       "0       June 22, 1987 in Los Angeles, California, USA ...    1987-06-22   \n",
       "1       August 12, 2014 in New York City, New York, US...    2014-08-12   \n",
       "3       March 5, 1982 in Hollywood, Los Angeles, Calif...    1982-03-05   \n",
       "4       July 30, 2007 in Fårö, Gotlands län, Sweden  (...    2007-07-30   \n",
       "5       August 29, 1982 in Chelsea, London, England, U...    1982-08-29   \n",
       "...                                                   ...           ...   \n",
       "245609  February 2, 2013 in Glen Rose, Somervell Count...    2013-02-02   \n",
       "252816  January 19, 2019 in Frederick, Maryland, USA  ...    2019-01-19   \n",
       "262067  December 5, 2017 in Camarillo, California, USA...    2017-12-05   \n",
       "265203  September 6, 1996 in Dhaka, Bangladesh  (suicide)    1996-09-06   \n",
       "270769  October 10, 2015 in Chennai, Tamil Nadu, India...    2015-10-10   \n",
       "\n",
       "                                   place_of_death  \\\n",
       "0                  Los Angeles, California, USA     \n",
       "1                  New York City, New York, USA     \n",
       "3       Hollywood, Los Angeles, California, USA     \n",
       "4                    Fårö, Gotlands län, Sweden     \n",
       "5                  Chelsea, London, England, UK     \n",
       "...                                           ...   \n",
       "245609  Glen Rose, Somervell County, Texas, USA     \n",
       "252816                 Frederick, Maryland, USA     \n",
       "262067               Camarillo, California, USA     \n",
       "265203                        Dhaka, Bangladesh     \n",
       "270769               Chennai, Tamil Nadu, India     \n",
       "\n",
       "                                          reason_of_death  \\\n",
       "0                                               pneumonia   \n",
       "1                                                  stroke   \n",
       "3                   acute cocaine and heroin intoxication   \n",
       "4                                          natural causes   \n",
       "5       lymphoma complications following a breast canc...   \n",
       "...                                                   ...   \n",
       "245609                                homicide by gunshot   \n",
       "252816             complications from Parkinson's disease   \n",
       "262067                                 suicide by hanging   \n",
       "265203                                            suicide   \n",
       "270769                                       heart attack   \n",
       "\n",
       "                                           spouses_string  spouses  divorces  \\\n",
       "0       Robyn Smith  (27 June 1980 - 22 June 1987) (hi...        2         0   \n",
       "1       Jason Robards  (4 July 1961 - 10 September 196...        2         1   \n",
       "3       Judith Belushi-Pisano  (31 December 1976 - 5 M...        1         0   \n",
       "4       Ingrid Bergman  (11 November 1971 - 20 May 199...        5         4   \n",
       "5       Lars Schmidt  (21 December 1958 - 1978) (divor...        3         3   \n",
       "...                                                   ...      ...       ...   \n",
       "245609  Taya Kyle  (16 March 2002 - 2 February 2013) (...        1         0   \n",
       "252816  Jonna Mendez  (1991 - 19 January 2019) (his de...        2         0   \n",
       "262067  Kevin Moore  (2016 - 5 December 2017) (her death)        1         0   \n",
       "265203  Samira Huq  (12 August 1992 - 6 September 1996...        1         0   \n",
       "270769  S.M.Ramanathan  (1964 - 1966) (divorced) (1 ch...        1         1   \n",
       "\n",
       "        spouses_with_children  children  \n",
       "0                           1         2  \n",
       "1                           2         3  \n",
       "3                           0         0  \n",
       "4                           5         8  \n",
       "5                           2         4  \n",
       "...                       ...       ...  \n",
       "245609                      1         2  \n",
       "252816                      2         4  \n",
       "262067                      0         0  \n",
       "265203                      0         0  \n",
       "270769                      1         1  \n",
       "\n",
       "[4539 rows x 17 columns]"
      ],
      "text/html": "<div>\n<style scoped>\n    .dataframe tbody tr th:only-of-type {\n        vertical-align: middle;\n    }\n\n    .dataframe tbody tr th {\n        vertical-align: top;\n    }\n\n    .dataframe thead th {\n        text-align: right;\n    }\n</style>\n<table border=\"1\" class=\"dataframe\">\n  <thead>\n    <tr style=\"text-align: right;\">\n      <th></th>\n      <th>imdb_name_id</th>\n      <th>name</th>\n      <th>birth_name</th>\n      <th>height</th>\n      <th>bio</th>\n      <th>birth_details</th>\n      <th>date_of_birth</th>\n      <th>place_of_birth</th>\n      <th>death_details</th>\n      <th>date_of_death</th>\n      <th>place_of_death</th>\n      <th>reason_of_death</th>\n      <th>spouses_string</th>\n      <th>spouses</th>\n      <th>divorces</th>\n      <th>spouses_with_children</th>\n      <th>children</th>\n    </tr>\n  </thead>\n  <tbody>\n    <tr>\n      <th>0</th>\n      <td>nm0000001</td>\n      <td>Fred Astaire</td>\n      <td>Frederic Austerlitz Jr.</td>\n      <td>177.0</td>\n      <td>Fred Astaire was born in Omaha, Nebraska, to J...</td>\n      <td>May 10, 1899 in Omaha, Nebraska, USA</td>\n      <td>1899-05-10</td>\n      <td>Omaha, Nebraska, USA</td>\n      <td>June 22, 1987 in Los Angeles, California, USA ...</td>\n      <td>1987-06-22</td>\n      <td>Los Angeles, California, USA</td>\n      <td>pneumonia</td>\n      <td>Robyn Smith  (27 June 1980 - 22 June 1987) (hi...</td>\n      <td>2</td>\n      <td>0</td>\n      <td>1</td>\n      <td>2</td>\n    </tr>\n    <tr>\n      <th>1</th>\n      <td>nm0000002</td>\n      <td>Lauren Bacall</td>\n      <td>Betty Joan Perske</td>\n      <td>174.0</td>\n      <td>Lauren Bacall was born Betty Joan Perske on Se...</td>\n      <td>September 16, 1924 in The Bronx, New York City...</td>\n      <td>1924-09-16</td>\n      <td>The Bronx, New York City, New York, USA</td>\n      <td>August 12, 2014 in New York City, New York, US...</td>\n      <td>2014-08-12</td>\n      <td>New York City, New York, USA</td>\n      <td>stroke</td>\n      <td>Jason Robards  (4 July 1961 - 10 September 196...</td>\n      <td>2</td>\n      <td>1</td>\n      <td>2</td>\n      <td>3</td>\n    </tr>\n    <tr>\n      <th>3</th>\n      <td>nm0000004</td>\n      <td>John Belushi</td>\n      <td>John Adam Belushi</td>\n      <td>170.0</td>\n      <td>John Belushi was born in Chicago, Illinois, US...</td>\n      <td>January 24, 1949 in Chicago, Illinois, USA</td>\n      <td>1949-01-24</td>\n      <td>Chicago, Illinois, USA</td>\n      <td>March 5, 1982 in Hollywood, Los Angeles, Calif...</td>\n      <td>1982-03-05</td>\n      <td>Hollywood, Los Angeles, California, USA</td>\n      <td>acute cocaine and heroin intoxication</td>\n      <td>Judith Belushi-Pisano  (31 December 1976 - 5 M...</td>\n      <td>1</td>\n      <td>0</td>\n      <td>0</td>\n      <td>0</td>\n    </tr>\n    <tr>\n      <th>4</th>\n      <td>nm0000005</td>\n      <td>Ingmar Bergman</td>\n      <td>Ernst Ingmar Bergman</td>\n      <td>179.0</td>\n      <td>Ernst Ingmar Bergman was born July 14, 1918, t...</td>\n      <td>July 14, 1918 in Uppsala, Uppsala län, Sweden</td>\n      <td>1918-07-14</td>\n      <td>Uppsala, Uppsala län, Sweden</td>\n      <td>July 30, 2007 in Fårö, Gotlands län, Sweden  (...</td>\n      <td>2007-07-30</td>\n      <td>Fårö, Gotlands län, Sweden</td>\n      <td>natural causes</td>\n      <td>Ingrid Bergman  (11 November 1971 - 20 May 199...</td>\n      <td>5</td>\n      <td>4</td>\n      <td>5</td>\n      <td>8</td>\n    </tr>\n    <tr>\n      <th>5</th>\n      <td>nm0000006</td>\n      <td>Ingrid Bergman</td>\n      <td>Ingrid Bergman</td>\n      <td>178.0</td>\n      <td>Ingrid Bergman was one of the greatest actress...</td>\n      <td>August 29, 1915 in Stockholm, Sweden</td>\n      <td>1915-08-29</td>\n      <td>Stockholm, Sweden</td>\n      <td>August 29, 1982 in Chelsea, London, England, U...</td>\n      <td>1982-08-29</td>\n      <td>Chelsea, London, England, UK</td>\n      <td>lymphoma complications following a breast canc...</td>\n      <td>Lars Schmidt  (21 December 1958 - 1978) (divor...</td>\n      <td>3</td>\n      <td>3</td>\n      <td>2</td>\n      <td>4</td>\n    </tr>\n    <tr>\n      <th>...</th>\n      <td>...</td>\n      <td>...</td>\n      <td>...</td>\n      <td>...</td>\n      <td>...</td>\n      <td>...</td>\n      <td>...</td>\n      <td>...</td>\n      <td>...</td>\n      <td>...</td>\n      <td>...</td>\n      <td>...</td>\n      <td>...</td>\n      <td>...</td>\n      <td>...</td>\n      <td>...</td>\n      <td>...</td>\n    </tr>\n    <tr>\n      <th>245609</th>\n      <td>nm4881574</td>\n      <td>Chris Kyle</td>\n      <td>Christopher Scott Kyle</td>\n      <td>188.0</td>\n      <td>Chris Kyle was born on April 8, 1974 in Odessa...</td>\n      <td>April 8, 1974 in Odessa, Texas, USA</td>\n      <td>1974-04-08</td>\n      <td>Odessa, Texas, USA</td>\n      <td>February 2, 2013 in Glen Rose, Somervell Count...</td>\n      <td>2013-02-02</td>\n      <td>Glen Rose, Somervell County, Texas, USA</td>\n      <td>homicide by gunshot</td>\n      <td>Taya Kyle  (16 March 2002 - 2 February 2013) (...</td>\n      <td>1</td>\n      <td>0</td>\n      <td>1</td>\n      <td>2</td>\n    </tr>\n    <tr>\n      <th>252816</th>\n      <td>nm5410196</td>\n      <td>Tony Mendez</td>\n      <td>Antonio Joseph Mendez</td>\n      <td>170.0</td>\n      <td>Tony Mendez was born on November 15, 1940 in E...</td>\n      <td>November 15, 1940 in Eureka, Nevada, USA</td>\n      <td>1940-11-15</td>\n      <td>Eureka, Nevada, USA</td>\n      <td>January 19, 2019 in Frederick, Maryland, USA  ...</td>\n      <td>2019-01-19</td>\n      <td>Frederick, Maryland, USA</td>\n      <td>complications from Parkinson's disease</td>\n      <td>Jonna Mendez  (1991 - 19 January 2019) (his de...</td>\n      <td>2</td>\n      <td>0</td>\n      <td>2</td>\n      <td>4</td>\n    </tr>\n    <tr>\n      <th>262067</th>\n      <td>nm6284246</td>\n      <td>August Ames</td>\n      <td>Mercedes Grabowski</td>\n      <td>168.0</td>\n      <td>Luscious, buxom, and shapely 5'6\" brunette kno...</td>\n      <td>August 23, 1994 in Nova Scotia, Canada</td>\n      <td>1994-08-23</td>\n      <td>Nova Scotia, Canada</td>\n      <td>December 5, 2017 in Camarillo, California, USA...</td>\n      <td>2017-12-05</td>\n      <td>Camarillo, California, USA</td>\n      <td>suicide by hanging</td>\n      <td>Kevin Moore  (2016 - 5 December 2017) (her death)</td>\n      <td>1</td>\n      <td>0</td>\n      <td>0</td>\n      <td>0</td>\n    </tr>\n    <tr>\n      <th>265203</th>\n      <td>nm6649402</td>\n      <td>Salman Shah</td>\n      <td>Shahriar Chowdhury Emon</td>\n      <td>173.0</td>\n      <td>Salman Shah was born on September 19, 1971 in ...</td>\n      <td>September 19, 1971 in Daria para, Sylhet, Bang...</td>\n      <td>1971-09-19</td>\n      <td>Daria para, Sylhet, Bangladesh</td>\n      <td>September 6, 1996 in Dhaka, Bangladesh  (suicide)</td>\n      <td>1996-09-06</td>\n      <td>Dhaka, Bangladesh</td>\n      <td>suicide</td>\n      <td>Samira Huq  (12 August 1992 - 6 September 1996...</td>\n      <td>1</td>\n      <td>0</td>\n      <td>0</td>\n      <td>0</td>\n    </tr>\n    <tr>\n      <th>270769</th>\n      <td>nm7390393</td>\n      <td>Aachi Manorama</td>\n      <td>Gopishantha</td>\n      <td>160.0</td>\n      <td>Manorama is a veteran Tamil actress who has ac...</td>\n      <td>May 26, 1937 in Mannargudi, Madras Presidency,...</td>\n      <td>1937-05-26</td>\n      <td>Mannargudi, Madras Presidency, British India</td>\n      <td>October 10, 2015 in Chennai, Tamil Nadu, India...</td>\n      <td>2015-10-10</td>\n      <td>Chennai, Tamil Nadu, India</td>\n      <td>heart attack</td>\n      <td>S.M.Ramanathan  (1964 - 1966) (divorced) (1 ch...</td>\n      <td>1</td>\n      <td>1</td>\n      <td>1</td>\n      <td>1</td>\n    </tr>\n  </tbody>\n</table>\n<p>4539 rows × 17 columns</p>\n</div>"
     },
     "metadata": {},
     "execution_count": 297
    }
   ],
   "source": [
    "Clean_IMDb_name_df = IMDb_name_data_df.dropna(how='any')\n",
    "Clean_IMDb_name_df"
   ]
  },
  {
   "cell_type": "code",
   "execution_count": 298,
   "metadata": {},
   "outputs": [
    {
     "output_type": "execute_result",
     "data": {
      "text/plain": [
       "  imdb_name_id            name  height  \\\n",
       "0    nm0000001    Fred Astaire   177.0   \n",
       "1    nm0000002   Lauren Bacall   174.0   \n",
       "3    nm0000004    John Belushi   170.0   \n",
       "4    nm0000005  Ingmar Bergman   179.0   \n",
       "5    nm0000006  Ingrid Bergman   178.0   \n",
       "\n",
       "                                                 bio date_of_birth  \\\n",
       "0  Fred Astaire was born in Omaha, Nebraska, to J...    1899-05-10   \n",
       "1  Lauren Bacall was born Betty Joan Perske on Se...    1924-09-16   \n",
       "3  John Belushi was born in Chicago, Illinois, US...    1949-01-24   \n",
       "4  Ernst Ingmar Bergman was born July 14, 1918, t...    1918-07-14   \n",
       "5  Ingrid Bergman was one of the greatest actress...    1915-08-29   \n",
       "\n",
       "                            place_of_birth date_of_death  spouses  children  \n",
       "0                     Omaha, Nebraska, USA    1987-06-22        2         2  \n",
       "1  The Bronx, New York City, New York, USA    2014-08-12        2         3  \n",
       "3                   Chicago, Illinois, USA    1982-03-05        1         0  \n",
       "4             Uppsala, Uppsala län, Sweden    2007-07-30        5         8  \n",
       "5                        Stockholm, Sweden    1982-08-29        3         4  "
      ],
      "text/html": "<div>\n<style scoped>\n    .dataframe tbody tr th:only-of-type {\n        vertical-align: middle;\n    }\n\n    .dataframe tbody tr th {\n        vertical-align: top;\n    }\n\n    .dataframe thead th {\n        text-align: right;\n    }\n</style>\n<table border=\"1\" class=\"dataframe\">\n  <thead>\n    <tr style=\"text-align: right;\">\n      <th></th>\n      <th>imdb_name_id</th>\n      <th>name</th>\n      <th>height</th>\n      <th>bio</th>\n      <th>date_of_birth</th>\n      <th>place_of_birth</th>\n      <th>date_of_death</th>\n      <th>spouses</th>\n      <th>children</th>\n    </tr>\n  </thead>\n  <tbody>\n    <tr>\n      <th>0</th>\n      <td>nm0000001</td>\n      <td>Fred Astaire</td>\n      <td>177.0</td>\n      <td>Fred Astaire was born in Omaha, Nebraska, to J...</td>\n      <td>1899-05-10</td>\n      <td>Omaha, Nebraska, USA</td>\n      <td>1987-06-22</td>\n      <td>2</td>\n      <td>2</td>\n    </tr>\n    <tr>\n      <th>1</th>\n      <td>nm0000002</td>\n      <td>Lauren Bacall</td>\n      <td>174.0</td>\n      <td>Lauren Bacall was born Betty Joan Perske on Se...</td>\n      <td>1924-09-16</td>\n      <td>The Bronx, New York City, New York, USA</td>\n      <td>2014-08-12</td>\n      <td>2</td>\n      <td>3</td>\n    </tr>\n    <tr>\n      <th>3</th>\n      <td>nm0000004</td>\n      <td>John Belushi</td>\n      <td>170.0</td>\n      <td>John Belushi was born in Chicago, Illinois, US...</td>\n      <td>1949-01-24</td>\n      <td>Chicago, Illinois, USA</td>\n      <td>1982-03-05</td>\n      <td>1</td>\n      <td>0</td>\n    </tr>\n    <tr>\n      <th>4</th>\n      <td>nm0000005</td>\n      <td>Ingmar Bergman</td>\n      <td>179.0</td>\n      <td>Ernst Ingmar Bergman was born July 14, 1918, t...</td>\n      <td>1918-07-14</td>\n      <td>Uppsala, Uppsala län, Sweden</td>\n      <td>2007-07-30</td>\n      <td>5</td>\n      <td>8</td>\n    </tr>\n    <tr>\n      <th>5</th>\n      <td>nm0000006</td>\n      <td>Ingrid Bergman</td>\n      <td>178.0</td>\n      <td>Ingrid Bergman was one of the greatest actress...</td>\n      <td>1915-08-29</td>\n      <td>Stockholm, Sweden</td>\n      <td>1982-08-29</td>\n      <td>3</td>\n      <td>4</td>\n    </tr>\n  </tbody>\n</table>\n</div>"
     },
     "metadata": {},
     "execution_count": 298
    }
   ],
   "source": [
    "new_IMDb_name_data_df = Clean_IMDb_name_df[['imdb_name_id', 'name',\t'height','bio',\t'date_of_birth','place_of_birth', 'date_of_death','spouses', 'children']].copy()\n",
    "new_IMDb_name_data_df.head()"
   ]
  },
  {
   "cell_type": "code",
   "execution_count": 299,
   "metadata": {},
   "outputs": [
    {
     "output_type": "stream",
     "name": "stdout",
     "text": [
      "<class 'pandas.core.frame.DataFrame'>\n"
     ]
    }
   ],
   "source": [
    "print(type(IMDb_data_df))"
   ]
  },
  {
   "cell_type": "code",
   "execution_count": null,
   "metadata": {},
   "outputs": [],
   "source": []
  },
  {
   "cell_type": "code",
   "execution_count": 300,
   "metadata": {},
   "outputs": [
    {
     "output_type": "execute_result",
     "data": {
      "text/plain": [
       "           duration      avg_vote         votes     metascore  \\\n",
       "count  85855.000000  85855.000000  8.585500e+04  13305.000000   \n",
       "mean     100.351418      5.898656  9.493490e+03     55.896881   \n",
       "std       22.553848      1.234987  5.357436e+04     17.784874   \n",
       "min       41.000000      1.000000  9.900000e+01      1.000000   \n",
       "25%       88.000000      5.200000  2.050000e+02     43.000000   \n",
       "50%       96.000000      6.100000  4.840000e+02     57.000000   \n",
       "75%      108.000000      6.800000  1.766500e+03     69.000000   \n",
       "max      808.000000      9.900000  2.278845e+06    100.000000   \n",
       "\n",
       "       reviews_from_users  reviews_from_critics  \n",
       "count        78258.000000          74058.000000  \n",
       "mean            46.040826             27.479989  \n",
       "std            178.511411             58.339158  \n",
       "min              1.000000              1.000000  \n",
       "25%              4.000000              3.000000  \n",
       "50%              9.000000              8.000000  \n",
       "75%             27.000000             23.000000  \n",
       "max          10472.000000            999.000000  "
      ],
      "text/html": "<div>\n<style scoped>\n    .dataframe tbody tr th:only-of-type {\n        vertical-align: middle;\n    }\n\n    .dataframe tbody tr th {\n        vertical-align: top;\n    }\n\n    .dataframe thead th {\n        text-align: right;\n    }\n</style>\n<table border=\"1\" class=\"dataframe\">\n  <thead>\n    <tr style=\"text-align: right;\">\n      <th></th>\n      <th>duration</th>\n      <th>avg_vote</th>\n      <th>votes</th>\n      <th>metascore</th>\n      <th>reviews_from_users</th>\n      <th>reviews_from_critics</th>\n    </tr>\n  </thead>\n  <tbody>\n    <tr>\n      <th>count</th>\n      <td>85855.000000</td>\n      <td>85855.000000</td>\n      <td>8.585500e+04</td>\n      <td>13305.000000</td>\n      <td>78258.000000</td>\n      <td>74058.000000</td>\n    </tr>\n    <tr>\n      <th>mean</th>\n      <td>100.351418</td>\n      <td>5.898656</td>\n      <td>9.493490e+03</td>\n      <td>55.896881</td>\n      <td>46.040826</td>\n      <td>27.479989</td>\n    </tr>\n    <tr>\n      <th>std</th>\n      <td>22.553848</td>\n      <td>1.234987</td>\n      <td>5.357436e+04</td>\n      <td>17.784874</td>\n      <td>178.511411</td>\n      <td>58.339158</td>\n    </tr>\n    <tr>\n      <th>min</th>\n      <td>41.000000</td>\n      <td>1.000000</td>\n      <td>9.900000e+01</td>\n      <td>1.000000</td>\n      <td>1.000000</td>\n      <td>1.000000</td>\n    </tr>\n    <tr>\n      <th>25%</th>\n      <td>88.000000</td>\n      <td>5.200000</td>\n      <td>2.050000e+02</td>\n      <td>43.000000</td>\n      <td>4.000000</td>\n      <td>3.000000</td>\n    </tr>\n    <tr>\n      <th>50%</th>\n      <td>96.000000</td>\n      <td>6.100000</td>\n      <td>4.840000e+02</td>\n      <td>57.000000</td>\n      <td>9.000000</td>\n      <td>8.000000</td>\n    </tr>\n    <tr>\n      <th>75%</th>\n      <td>108.000000</td>\n      <td>6.800000</td>\n      <td>1.766500e+03</td>\n      <td>69.000000</td>\n      <td>27.000000</td>\n      <td>23.000000</td>\n    </tr>\n    <tr>\n      <th>max</th>\n      <td>808.000000</td>\n      <td>9.900000</td>\n      <td>2.278845e+06</td>\n      <td>100.000000</td>\n      <td>10472.000000</td>\n      <td>999.000000</td>\n    </tr>\n  </tbody>\n</table>\n</div>"
     },
     "metadata": {},
     "execution_count": 300
    }
   ],
   "source": [
    "IMDb_data_df.describe()"
   ]
  },
  {
   "cell_type": "code",
   "execution_count": 301,
   "metadata": {},
   "outputs": [
    {
     "output_type": "execute_result",
     "data": {
      "text/plain": [
       "    imdb_title_id                Title  year  \\\n",
       "0       tt0032455             Fantasia  1940   \n",
       "1       tt0032910            Pinocchio  1940   \n",
       "2       tt0255477            Pinocchio  2002   \n",
       "3       tt0035423       Kate & Leopold  2001   \n",
       "4       tt0047034             Godzilla  1954   \n",
       "..            ...                  ...   ...   \n",
       "506     tt7545524          Ben Is Back  2018   \n",
       "507     tt7605074  The Wandering Earth  2019   \n",
       "508     tt7634968        What Men Want  2019   \n",
       "509     tt8359848               Climax  2018   \n",
       "510     tt9024106            Unplanned  2019   \n",
       "\n",
       "                                                actors  \\\n",
       "0    Deems Taylor, Leopold Stokowski, The Philadelp...   \n",
       "1    Mel Blanc, Don Brodie, Stuart Buchanan, Walter...   \n",
       "2    Roberto Benigni, Nicoletta Braschi, Mino Belle...   \n",
       "3    Meg Ryan, Hugh Jackman, Liev Schreiber, Brecki...   \n",
       "4    Akira Takarada, Momoko Kôchi, Akihiko Hirata, ...   \n",
       "..                                                 ...   \n",
       "506  Julia Roberts, Lucas Hedges, Courtney B. Vance...   \n",
       "507  Jing Wu, Chuxiao Qu, Guangjie Li, Man-Tat Ng, ...   \n",
       "508  Taraji P. Henson, Kristen Ledlow, Josh Brener,...   \n",
       "509  Sofia Boutella, Romain Guillermic, Souheila Ya...   \n",
       "510  Ashley Bratcher, Brooks Ryan, Robia Scott, Jar...   \n",
       "\n",
       "                          director                       genre  \\\n",
       "0    James Algar, Samuel Armstrong  Animation, Family, Fantasy   \n",
       "1          Norman Ferguson, T. Hee   Animation, Comedy, Family   \n",
       "2                  Roberto Benigni     Comedy, Family, Fantasy   \n",
       "3                    James Mangold    Comedy, Fantasy, Romance   \n",
       "4                     Ishirô Honda       Action, Drama, Horror   \n",
       "..                             ...                         ...   \n",
       "506                   Peter Hedges                       Drama   \n",
       "507                      Frant Gwo              Action, Sci-Fi   \n",
       "508                  Adam Shankman    Comedy, Fantasy, Romance   \n",
       "509                     Gaspar Noé        Drama, Horror, Music   \n",
       "510  Chuck Konzelman, Cary Solomon            Biography, Drama   \n",
       "\n",
       "             country                                           language  \\\n",
       "0                USA                                            English   \n",
       "1                USA                                            English   \n",
       "2              Italy                                            Italian   \n",
       "3                USA                                    English, French   \n",
       "4              Japan                                           Japanese   \n",
       "..               ...                                                ...   \n",
       "506              USA                                            English   \n",
       "507            China  Mandarin, English, Russian, French, Japanese, ...   \n",
       "508              USA                                  English, Mandarin   \n",
       "509  France, Belgium                                    French, English   \n",
       "510              USA                                            English   \n",
       "\n",
       "     duration  metascore  Year                            Genres  Runtime  \\\n",
       "0         125       96.0  1940    Animation,Family,Fantasy,Music    125.0   \n",
       "1          88       99.0  1940                     Drama,Fantasy    120.0   \n",
       "2         108       11.0  1940                     Drama,Fantasy    120.0   \n",
       "3         118       44.0  2001            Comedy,Fantasy,Romance    118.0   \n",
       "4          96       78.0  1998  Action,Adventure,Sci-Fi,Thriller    123.0   \n",
       "..        ...        ...   ...                               ...      ...   \n",
       "506       103       66.0  2018                             Drama    103.0   \n",
       "507       125       57.0  2019               Action,Drama,Sci-Fi    125.0   \n",
       "508       117       49.0  2019            Comedy,Fantasy,Romance    117.0   \n",
       "509        97       67.0  2018       Drama,Horror,Music,Thriller     97.0   \n",
       "510       109       10.0  2019                   Biography,Drama    109.0   \n",
       "\n",
       "                                              Language  \\\n",
       "0                                              English   \n",
       "1                                              Italian   \n",
       "2                                              Italian   \n",
       "3                                       English,French   \n",
       "4                                     English,Japanese   \n",
       "..                                                 ...   \n",
       "506                                            English   \n",
       "507  Mandarin,English,Russian,French,Japanese,Korea...   \n",
       "508                                   English,Mandarin   \n",
       "509                                     French,English   \n",
       "510                                            English   \n",
       "\n",
       "                         Country Rotten Tomatoes  \n",
       "0                  United States             94%  \n",
       "1    Italy,France,United Kingdom            100%  \n",
       "2    Italy,France,United Kingdom            100%  \n",
       "3                  United States             50%  \n",
       "4            United States,Japan             16%  \n",
       "..                           ...             ...  \n",
       "506                United States             82%  \n",
       "507                        China             75%  \n",
       "508                United States             42%  \n",
       "509               France,Belgium             69%  \n",
       "510                United States             40%  \n",
       "\n",
       "[511 rows x 16 columns]"
      ],
      "text/html": "<div>\n<style scoped>\n    .dataframe tbody tr th:only-of-type {\n        vertical-align: middle;\n    }\n\n    .dataframe tbody tr th {\n        vertical-align: top;\n    }\n\n    .dataframe thead th {\n        text-align: right;\n    }\n</style>\n<table border=\"1\" class=\"dataframe\">\n  <thead>\n    <tr style=\"text-align: right;\">\n      <th></th>\n      <th>imdb_title_id</th>\n      <th>Title</th>\n      <th>year</th>\n      <th>actors</th>\n      <th>director</th>\n      <th>genre</th>\n      <th>country</th>\n      <th>language</th>\n      <th>duration</th>\n      <th>metascore</th>\n      <th>Year</th>\n      <th>Genres</th>\n      <th>Runtime</th>\n      <th>Language</th>\n      <th>Country</th>\n      <th>Rotten Tomatoes</th>\n    </tr>\n  </thead>\n  <tbody>\n    <tr>\n      <th>0</th>\n      <td>tt0032455</td>\n      <td>Fantasia</td>\n      <td>1940</td>\n      <td>Deems Taylor, Leopold Stokowski, The Philadelp...</td>\n      <td>James Algar, Samuel Armstrong</td>\n      <td>Animation, Family, Fantasy</td>\n      <td>USA</td>\n      <td>English</td>\n      <td>125</td>\n      <td>96.0</td>\n      <td>1940</td>\n      <td>Animation,Family,Fantasy,Music</td>\n      <td>125.0</td>\n      <td>English</td>\n      <td>United States</td>\n      <td>94%</td>\n    </tr>\n    <tr>\n      <th>1</th>\n      <td>tt0032910</td>\n      <td>Pinocchio</td>\n      <td>1940</td>\n      <td>Mel Blanc, Don Brodie, Stuart Buchanan, Walter...</td>\n      <td>Norman Ferguson, T. Hee</td>\n      <td>Animation, Comedy, Family</td>\n      <td>USA</td>\n      <td>English</td>\n      <td>88</td>\n      <td>99.0</td>\n      <td>1940</td>\n      <td>Drama,Fantasy</td>\n      <td>120.0</td>\n      <td>Italian</td>\n      <td>Italy,France,United Kingdom</td>\n      <td>100%</td>\n    </tr>\n    <tr>\n      <th>2</th>\n      <td>tt0255477</td>\n      <td>Pinocchio</td>\n      <td>2002</td>\n      <td>Roberto Benigni, Nicoletta Braschi, Mino Belle...</td>\n      <td>Roberto Benigni</td>\n      <td>Comedy, Family, Fantasy</td>\n      <td>Italy</td>\n      <td>Italian</td>\n      <td>108</td>\n      <td>11.0</td>\n      <td>1940</td>\n      <td>Drama,Fantasy</td>\n      <td>120.0</td>\n      <td>Italian</td>\n      <td>Italy,France,United Kingdom</td>\n      <td>100%</td>\n    </tr>\n    <tr>\n      <th>3</th>\n      <td>tt0035423</td>\n      <td>Kate &amp; Leopold</td>\n      <td>2001</td>\n      <td>Meg Ryan, Hugh Jackman, Liev Schreiber, Brecki...</td>\n      <td>James Mangold</td>\n      <td>Comedy, Fantasy, Romance</td>\n      <td>USA</td>\n      <td>English, French</td>\n      <td>118</td>\n      <td>44.0</td>\n      <td>2001</td>\n      <td>Comedy,Fantasy,Romance</td>\n      <td>118.0</td>\n      <td>English,French</td>\n      <td>United States</td>\n      <td>50%</td>\n    </tr>\n    <tr>\n      <th>4</th>\n      <td>tt0047034</td>\n      <td>Godzilla</td>\n      <td>1954</td>\n      <td>Akira Takarada, Momoko Kôchi, Akihiko Hirata, ...</td>\n      <td>Ishirô Honda</td>\n      <td>Action, Drama, Horror</td>\n      <td>Japan</td>\n      <td>Japanese</td>\n      <td>96</td>\n      <td>78.0</td>\n      <td>1998</td>\n      <td>Action,Adventure,Sci-Fi,Thriller</td>\n      <td>123.0</td>\n      <td>English,Japanese</td>\n      <td>United States,Japan</td>\n      <td>16%</td>\n    </tr>\n    <tr>\n      <th>...</th>\n      <td>...</td>\n      <td>...</td>\n      <td>...</td>\n      <td>...</td>\n      <td>...</td>\n      <td>...</td>\n      <td>...</td>\n      <td>...</td>\n      <td>...</td>\n      <td>...</td>\n      <td>...</td>\n      <td>...</td>\n      <td>...</td>\n      <td>...</td>\n      <td>...</td>\n      <td>...</td>\n    </tr>\n    <tr>\n      <th>506</th>\n      <td>tt7545524</td>\n      <td>Ben Is Back</td>\n      <td>2018</td>\n      <td>Julia Roberts, Lucas Hedges, Courtney B. Vance...</td>\n      <td>Peter Hedges</td>\n      <td>Drama</td>\n      <td>USA</td>\n      <td>English</td>\n      <td>103</td>\n      <td>66.0</td>\n      <td>2018</td>\n      <td>Drama</td>\n      <td>103.0</td>\n      <td>English</td>\n      <td>United States</td>\n      <td>82%</td>\n    </tr>\n    <tr>\n      <th>507</th>\n      <td>tt7605074</td>\n      <td>The Wandering Earth</td>\n      <td>2019</td>\n      <td>Jing Wu, Chuxiao Qu, Guangjie Li, Man-Tat Ng, ...</td>\n      <td>Frant Gwo</td>\n      <td>Action, Sci-Fi</td>\n      <td>China</td>\n      <td>Mandarin, English, Russian, French, Japanese, ...</td>\n      <td>125</td>\n      <td>57.0</td>\n      <td>2019</td>\n      <td>Action,Drama,Sci-Fi</td>\n      <td>125.0</td>\n      <td>Mandarin,English,Russian,French,Japanese,Korea...</td>\n      <td>China</td>\n      <td>75%</td>\n    </tr>\n    <tr>\n      <th>508</th>\n      <td>tt7634968</td>\n      <td>What Men Want</td>\n      <td>2019</td>\n      <td>Taraji P. Henson, Kristen Ledlow, Josh Brener,...</td>\n      <td>Adam Shankman</td>\n      <td>Comedy, Fantasy, Romance</td>\n      <td>USA</td>\n      <td>English, Mandarin</td>\n      <td>117</td>\n      <td>49.0</td>\n      <td>2019</td>\n      <td>Comedy,Fantasy,Romance</td>\n      <td>117.0</td>\n      <td>English,Mandarin</td>\n      <td>United States</td>\n      <td>42%</td>\n    </tr>\n    <tr>\n      <th>509</th>\n      <td>tt8359848</td>\n      <td>Climax</td>\n      <td>2018</td>\n      <td>Sofia Boutella, Romain Guillermic, Souheila Ya...</td>\n      <td>Gaspar Noé</td>\n      <td>Drama, Horror, Music</td>\n      <td>France, Belgium</td>\n      <td>French, English</td>\n      <td>97</td>\n      <td>67.0</td>\n      <td>2018</td>\n      <td>Drama,Horror,Music,Thriller</td>\n      <td>97.0</td>\n      <td>French,English</td>\n      <td>France,Belgium</td>\n      <td>69%</td>\n    </tr>\n    <tr>\n      <th>510</th>\n      <td>tt9024106</td>\n      <td>Unplanned</td>\n      <td>2019</td>\n      <td>Ashley Bratcher, Brooks Ryan, Robia Scott, Jar...</td>\n      <td>Chuck Konzelman, Cary Solomon</td>\n      <td>Biography, Drama</td>\n      <td>USA</td>\n      <td>English</td>\n      <td>109</td>\n      <td>10.0</td>\n      <td>2019</td>\n      <td>Biography,Drama</td>\n      <td>109.0</td>\n      <td>English</td>\n      <td>United States</td>\n      <td>40%</td>\n    </tr>\n  </tbody>\n</table>\n<p>511 rows × 16 columns</p>\n</div>"
     },
     "metadata": {},
     "execution_count": 301
    }
   ],
   "source": [
    "# inner_join_df= pd.merge(df1, df2, on='Customer_id', how='inner')\n",
    "\n",
    "# inner_join_df \n",
    "\n",
    "cleanComplete_Movies_data = pd.merge(new_IMDb_data_df, new_IMoviesOnStreaming_data_df, on='Title', how = 'inner')\n",
    "cleanComplete_Movies_data"
   ]
  },
  {
   "cell_type": "code",
   "execution_count": 302,
   "metadata": {},
   "outputs": [
    {
     "output_type": "execute_result",
     "data": {
      "text/plain": [
       "  imdb_title_id           Title  year  \\\n",
       "0     tt0032455        Fantasia  1940   \n",
       "1     tt0032910       Pinocchio  1940   \n",
       "2     tt0255477       Pinocchio  2002   \n",
       "3     tt0035423  Kate & Leopold  2001   \n",
       "4     tt0047034        Godzilla  1954   \n",
       "\n",
       "                                              actors  \\\n",
       "0  Deems Taylor, Leopold Stokowski, The Philadelp...   \n",
       "1  Mel Blanc, Don Brodie, Stuart Buchanan, Walter...   \n",
       "2  Roberto Benigni, Nicoletta Braschi, Mino Belle...   \n",
       "3  Meg Ryan, Hugh Jackman, Liev Schreiber, Brecki...   \n",
       "4  Akira Takarada, Momoko Kôchi, Akihiko Hirata, ...   \n",
       "\n",
       "                        director                       genre country  \\\n",
       "0  James Algar, Samuel Armstrong  Animation, Family, Fantasy     USA   \n",
       "1        Norman Ferguson, T. Hee   Animation, Comedy, Family     USA   \n",
       "2                Roberto Benigni     Comedy, Family, Fantasy   Italy   \n",
       "3                  James Mangold    Comedy, Fantasy, Romance     USA   \n",
       "4                   Ishirô Honda       Action, Drama, Horror   Japan   \n",
       "\n",
       "          language  duration  metascore  Year  \\\n",
       "0          English       125       96.0  1940   \n",
       "1          English        88       99.0  1940   \n",
       "2          Italian       108       11.0  1940   \n",
       "3  English, French       118       44.0  2001   \n",
       "4         Japanese        96       78.0  1998   \n",
       "\n",
       "                             Genres  Runtime          Language  \\\n",
       "0    Animation,Family,Fantasy,Music    125.0           English   \n",
       "1                     Drama,Fantasy    120.0           Italian   \n",
       "2                     Drama,Fantasy    120.0           Italian   \n",
       "3            Comedy,Fantasy,Romance    118.0    English,French   \n",
       "4  Action,Adventure,Sci-Fi,Thriller    123.0  English,Japanese   \n",
       "\n",
       "                       Country Rotten Tomatoes  \n",
       "0                United States             94%  \n",
       "1  Italy,France,United Kingdom            100%  \n",
       "2  Italy,France,United Kingdom            100%  \n",
       "3                United States             50%  \n",
       "4          United States,Japan             16%  "
      ],
      "text/html": "<div>\n<style scoped>\n    .dataframe tbody tr th:only-of-type {\n        vertical-align: middle;\n    }\n\n    .dataframe tbody tr th {\n        vertical-align: top;\n    }\n\n    .dataframe thead th {\n        text-align: right;\n    }\n</style>\n<table border=\"1\" class=\"dataframe\">\n  <thead>\n    <tr style=\"text-align: right;\">\n      <th></th>\n      <th>imdb_title_id</th>\n      <th>Title</th>\n      <th>year</th>\n      <th>actors</th>\n      <th>director</th>\n      <th>genre</th>\n      <th>country</th>\n      <th>language</th>\n      <th>duration</th>\n      <th>metascore</th>\n      <th>Year</th>\n      <th>Genres</th>\n      <th>Runtime</th>\n      <th>Language</th>\n      <th>Country</th>\n      <th>Rotten Tomatoes</th>\n    </tr>\n  </thead>\n  <tbody>\n    <tr>\n      <th>0</th>\n      <td>tt0032455</td>\n      <td>Fantasia</td>\n      <td>1940</td>\n      <td>Deems Taylor, Leopold Stokowski, The Philadelp...</td>\n      <td>James Algar, Samuel Armstrong</td>\n      <td>Animation, Family, Fantasy</td>\n      <td>USA</td>\n      <td>English</td>\n      <td>125</td>\n      <td>96.0</td>\n      <td>1940</td>\n      <td>Animation,Family,Fantasy,Music</td>\n      <td>125.0</td>\n      <td>English</td>\n      <td>United States</td>\n      <td>94%</td>\n    </tr>\n    <tr>\n      <th>1</th>\n      <td>tt0032910</td>\n      <td>Pinocchio</td>\n      <td>1940</td>\n      <td>Mel Blanc, Don Brodie, Stuart Buchanan, Walter...</td>\n      <td>Norman Ferguson, T. Hee</td>\n      <td>Animation, Comedy, Family</td>\n      <td>USA</td>\n      <td>English</td>\n      <td>88</td>\n      <td>99.0</td>\n      <td>1940</td>\n      <td>Drama,Fantasy</td>\n      <td>120.0</td>\n      <td>Italian</td>\n      <td>Italy,France,United Kingdom</td>\n      <td>100%</td>\n    </tr>\n    <tr>\n      <th>2</th>\n      <td>tt0255477</td>\n      <td>Pinocchio</td>\n      <td>2002</td>\n      <td>Roberto Benigni, Nicoletta Braschi, Mino Belle...</td>\n      <td>Roberto Benigni</td>\n      <td>Comedy, Family, Fantasy</td>\n      <td>Italy</td>\n      <td>Italian</td>\n      <td>108</td>\n      <td>11.0</td>\n      <td>1940</td>\n      <td>Drama,Fantasy</td>\n      <td>120.0</td>\n      <td>Italian</td>\n      <td>Italy,France,United Kingdom</td>\n      <td>100%</td>\n    </tr>\n    <tr>\n      <th>3</th>\n      <td>tt0035423</td>\n      <td>Kate &amp; Leopold</td>\n      <td>2001</td>\n      <td>Meg Ryan, Hugh Jackman, Liev Schreiber, Brecki...</td>\n      <td>James Mangold</td>\n      <td>Comedy, Fantasy, Romance</td>\n      <td>USA</td>\n      <td>English, French</td>\n      <td>118</td>\n      <td>44.0</td>\n      <td>2001</td>\n      <td>Comedy,Fantasy,Romance</td>\n      <td>118.0</td>\n      <td>English,French</td>\n      <td>United States</td>\n      <td>50%</td>\n    </tr>\n    <tr>\n      <th>4</th>\n      <td>tt0047034</td>\n      <td>Godzilla</td>\n      <td>1954</td>\n      <td>Akira Takarada, Momoko Kôchi, Akihiko Hirata, ...</td>\n      <td>Ishirô Honda</td>\n      <td>Action, Drama, Horror</td>\n      <td>Japan</td>\n      <td>Japanese</td>\n      <td>96</td>\n      <td>78.0</td>\n      <td>1998</td>\n      <td>Action,Adventure,Sci-Fi,Thriller</td>\n      <td>123.0</td>\n      <td>English,Japanese</td>\n      <td>United States,Japan</td>\n      <td>16%</td>\n    </tr>\n  </tbody>\n</table>\n</div>"
     },
     "metadata": {},
     "execution_count": 302
    }
   ],
   "source": [
    "cleanComplete_Movies_data.head()\n"
   ]
  },
  {
   "cell_type": "code",
   "execution_count": 303,
   "metadata": {},
   "outputs": [
    {
     "output_type": "execute_result",
     "data": {
      "text/plain": [
       "                   Title  Year                            Genres  Runtime  \\\n",
       "0               Fantasia  1940    Animation,Family,Fantasy,Music    125.0   \n",
       "1              Pinocchio  1940                     Drama,Fantasy    120.0   \n",
       "2              Pinocchio  1940                     Drama,Fantasy    120.0   \n",
       "3         Kate & Leopold  2001            Comedy,Fantasy,Romance    118.0   \n",
       "4               Godzilla  1998  Action,Adventure,Sci-Fi,Thriller    123.0   \n",
       "..                   ...   ...                               ...      ...   \n",
       "506          Ben Is Back  2018                             Drama    103.0   \n",
       "507  The Wandering Earth  2019               Action,Drama,Sci-Fi    125.0   \n",
       "508        What Men Want  2019            Comedy,Fantasy,Romance    117.0   \n",
       "509               Climax  2018       Drama,Horror,Music,Thriller     97.0   \n",
       "510            Unplanned  2019                   Biography,Drama    109.0   \n",
       "\n",
       "                                              Language  \\\n",
       "0                                              English   \n",
       "1                                              Italian   \n",
       "2                                              Italian   \n",
       "3                                       English,French   \n",
       "4                                     English,Japanese   \n",
       "..                                                 ...   \n",
       "506                                            English   \n",
       "507  Mandarin,English,Russian,French,Japanese,Korea...   \n",
       "508                                   English,Mandarin   \n",
       "509                                     French,English   \n",
       "510                                            English   \n",
       "\n",
       "                         Country Rotten Tomatoes  \n",
       "0                  United States             94%  \n",
       "1    Italy,France,United Kingdom            100%  \n",
       "2    Italy,France,United Kingdom            100%  \n",
       "3                  United States             50%  \n",
       "4            United States,Japan             16%  \n",
       "..                           ...             ...  \n",
       "506                United States             82%  \n",
       "507                        China             75%  \n",
       "508                United States             42%  \n",
       "509               France,Belgium             69%  \n",
       "510                United States             40%  \n",
       "\n",
       "[511 rows x 7 columns]"
      ],
      "text/html": "<div>\n<style scoped>\n    .dataframe tbody tr th:only-of-type {\n        vertical-align: middle;\n    }\n\n    .dataframe tbody tr th {\n        vertical-align: top;\n    }\n\n    .dataframe thead th {\n        text-align: right;\n    }\n</style>\n<table border=\"1\" class=\"dataframe\">\n  <thead>\n    <tr style=\"text-align: right;\">\n      <th></th>\n      <th>Title</th>\n      <th>Year</th>\n      <th>Genres</th>\n      <th>Runtime</th>\n      <th>Language</th>\n      <th>Country</th>\n      <th>Rotten Tomatoes</th>\n    </tr>\n  </thead>\n  <tbody>\n    <tr>\n      <th>0</th>\n      <td>Fantasia</td>\n      <td>1940</td>\n      <td>Animation,Family,Fantasy,Music</td>\n      <td>125.0</td>\n      <td>English</td>\n      <td>United States</td>\n      <td>94%</td>\n    </tr>\n    <tr>\n      <th>1</th>\n      <td>Pinocchio</td>\n      <td>1940</td>\n      <td>Drama,Fantasy</td>\n      <td>120.0</td>\n      <td>Italian</td>\n      <td>Italy,France,United Kingdom</td>\n      <td>100%</td>\n    </tr>\n    <tr>\n      <th>2</th>\n      <td>Pinocchio</td>\n      <td>1940</td>\n      <td>Drama,Fantasy</td>\n      <td>120.0</td>\n      <td>Italian</td>\n      <td>Italy,France,United Kingdom</td>\n      <td>100%</td>\n    </tr>\n    <tr>\n      <th>3</th>\n      <td>Kate &amp; Leopold</td>\n      <td>2001</td>\n      <td>Comedy,Fantasy,Romance</td>\n      <td>118.0</td>\n      <td>English,French</td>\n      <td>United States</td>\n      <td>50%</td>\n    </tr>\n    <tr>\n      <th>4</th>\n      <td>Godzilla</td>\n      <td>1998</td>\n      <td>Action,Adventure,Sci-Fi,Thriller</td>\n      <td>123.0</td>\n      <td>English,Japanese</td>\n      <td>United States,Japan</td>\n      <td>16%</td>\n    </tr>\n    <tr>\n      <th>...</th>\n      <td>...</td>\n      <td>...</td>\n      <td>...</td>\n      <td>...</td>\n      <td>...</td>\n      <td>...</td>\n      <td>...</td>\n    </tr>\n    <tr>\n      <th>506</th>\n      <td>Ben Is Back</td>\n      <td>2018</td>\n      <td>Drama</td>\n      <td>103.0</td>\n      <td>English</td>\n      <td>United States</td>\n      <td>82%</td>\n    </tr>\n    <tr>\n      <th>507</th>\n      <td>The Wandering Earth</td>\n      <td>2019</td>\n      <td>Action,Drama,Sci-Fi</td>\n      <td>125.0</td>\n      <td>Mandarin,English,Russian,French,Japanese,Korea...</td>\n      <td>China</td>\n      <td>75%</td>\n    </tr>\n    <tr>\n      <th>508</th>\n      <td>What Men Want</td>\n      <td>2019</td>\n      <td>Comedy,Fantasy,Romance</td>\n      <td>117.0</td>\n      <td>English,Mandarin</td>\n      <td>United States</td>\n      <td>42%</td>\n    </tr>\n    <tr>\n      <th>509</th>\n      <td>Climax</td>\n      <td>2018</td>\n      <td>Drama,Horror,Music,Thriller</td>\n      <td>97.0</td>\n      <td>French,English</td>\n      <td>France,Belgium</td>\n      <td>69%</td>\n    </tr>\n    <tr>\n      <th>510</th>\n      <td>Unplanned</td>\n      <td>2019</td>\n      <td>Biography,Drama</td>\n      <td>109.0</td>\n      <td>English</td>\n      <td>United States</td>\n      <td>40%</td>\n    </tr>\n  </tbody>\n</table>\n<p>511 rows × 7 columns</p>\n</div>"
     },
     "metadata": {},
     "execution_count": 303
    }
   ],
   "source": [
    "# cleanComplete_Movies_data = pd.merge(Clean_IMDb_df, Clean_MoviesOnStreaming_df,\n",
    "NewcleanComplete_Movies_data = cleanComplete_Movies_data[['Title', 'Year', 'Genres', 'Runtime', 'Language', 'Country', 'Rotten Tomatoes']].copy()\n",
    "NewcleanComplete_Movies_data"
   ]
  },
  {
   "cell_type": "code",
   "execution_count": 304,
   "metadata": {},
   "outputs": [
    {
     "output_type": "execute_result",
     "data": {
      "text/plain": [
       "108.73972602739725"
      ]
     },
     "metadata": {},
     "execution_count": 304
    }
   ],
   "source": [
    "#mean runtime\n",
    "NewcleanComplete_Movies_data[\"Runtime\"].mean()"
   ]
  },
  {
   "cell_type": "code",
   "execution_count": 305,
   "metadata": {},
   "outputs": [],
   "source": [
    "# NewcleanComplete_Movies_data[\"Rotten Tomatoes\"].mean()"
   ]
  },
  {
   "cell_type": "code",
   "execution_count": 306,
   "metadata": {},
   "outputs": [],
   "source": [
    "#Average movie score\n",
    "# NewcleanComplete_Movies_data[f'Rotten Tomatoes'].mean()"
   ]
  },
  {
   "cell_type": "code",
   "execution_count": null,
   "metadata": {},
   "outputs": [],
   "source": []
  },
  {
   "source": [
    "cleanComplete_Movies_data.describe()"
   ],
   "cell_type": "markdown",
   "metadata": {}
  },
  {
   "cell_type": "code",
   "execution_count": 307,
   "metadata": {},
   "outputs": [
    {
     "output_type": "execute_result",
     "data": {
      "text/plain": [
       "    imdb_title_id                Title  year  \\\n",
       "0       tt0032455             Fantasia  1940   \n",
       "1       tt0032910            Pinocchio  1940   \n",
       "2       tt0255477            Pinocchio  2002   \n",
       "3       tt0035423       Kate & Leopold  2001   \n",
       "4       tt0047034             Godzilla  1954   \n",
       "..            ...                  ...   ...   \n",
       "506     tt7545524          Ben Is Back  2018   \n",
       "507     tt7605074  The Wandering Earth  2019   \n",
       "508     tt7634968        What Men Want  2019   \n",
       "509     tt8359848               Climax  2018   \n",
       "510     tt9024106            Unplanned  2019   \n",
       "\n",
       "                                                actors  \\\n",
       "0    Deems Taylor, Leopold Stokowski, The Philadelp...   \n",
       "1    Mel Blanc, Don Brodie, Stuart Buchanan, Walter...   \n",
       "2    Roberto Benigni, Nicoletta Braschi, Mino Belle...   \n",
       "3    Meg Ryan, Hugh Jackman, Liev Schreiber, Brecki...   \n",
       "4    Akira Takarada, Momoko Kôchi, Akihiko Hirata, ...   \n",
       "..                                                 ...   \n",
       "506  Julia Roberts, Lucas Hedges, Courtney B. Vance...   \n",
       "507  Jing Wu, Chuxiao Qu, Guangjie Li, Man-Tat Ng, ...   \n",
       "508  Taraji P. Henson, Kristen Ledlow, Josh Brener,...   \n",
       "509  Sofia Boutella, Romain Guillermic, Souheila Ya...   \n",
       "510  Ashley Bratcher, Brooks Ryan, Robia Scott, Jar...   \n",
       "\n",
       "                          director                       genre  \\\n",
       "0    James Algar, Samuel Armstrong  Animation, Family, Fantasy   \n",
       "1          Norman Ferguson, T. Hee   Animation, Comedy, Family   \n",
       "2                  Roberto Benigni     Comedy, Family, Fantasy   \n",
       "3                    James Mangold    Comedy, Fantasy, Romance   \n",
       "4                     Ishirô Honda       Action, Drama, Horror   \n",
       "..                             ...                         ...   \n",
       "506                   Peter Hedges                       Drama   \n",
       "507                      Frant Gwo              Action, Sci-Fi   \n",
       "508                  Adam Shankman    Comedy, Fantasy, Romance   \n",
       "509                     Gaspar Noé        Drama, Horror, Music   \n",
       "510  Chuck Konzelman, Cary Solomon            Biography, Drama   \n",
       "\n",
       "             country                                           language  \\\n",
       "0                USA                                            English   \n",
       "1                USA                                            English   \n",
       "2              Italy                                            Italian   \n",
       "3                USA                                    English, French   \n",
       "4              Japan                                           Japanese   \n",
       "..               ...                                                ...   \n",
       "506              USA                                            English   \n",
       "507            China  Mandarin, English, Russian, French, Japanese, ...   \n",
       "508              USA                                  English, Mandarin   \n",
       "509  France, Belgium                                    French, English   \n",
       "510              USA                                            English   \n",
       "\n",
       "     duration  metascore  Year                            Genres  Runtime  \\\n",
       "0         125       96.0  1940    Animation,Family,Fantasy,Music    125.0   \n",
       "1          88       99.0  1940                     Drama,Fantasy    120.0   \n",
       "2         108       11.0  1940                     Drama,Fantasy    120.0   \n",
       "3         118       44.0  2001            Comedy,Fantasy,Romance    118.0   \n",
       "4          96       78.0  1998  Action,Adventure,Sci-Fi,Thriller    123.0   \n",
       "..        ...        ...   ...                               ...      ...   \n",
       "506       103       66.0  2018                             Drama    103.0   \n",
       "507       125       57.0  2019               Action,Drama,Sci-Fi    125.0   \n",
       "508       117       49.0  2019            Comedy,Fantasy,Romance    117.0   \n",
       "509        97       67.0  2018       Drama,Horror,Music,Thriller     97.0   \n",
       "510       109       10.0  2019                   Biography,Drama    109.0   \n",
       "\n",
       "                                              Language  \\\n",
       "0                                              English   \n",
       "1                                              Italian   \n",
       "2                                              Italian   \n",
       "3                                       English,French   \n",
       "4                                     English,Japanese   \n",
       "..                                                 ...   \n",
       "506                                            English   \n",
       "507  Mandarin,English,Russian,French,Japanese,Korea...   \n",
       "508                                   English,Mandarin   \n",
       "509                                     French,English   \n",
       "510                                            English   \n",
       "\n",
       "                         Country Rotten Tomatoes  \n",
       "0                  United States             94%  \n",
       "1    Italy,France,United Kingdom            100%  \n",
       "2    Italy,France,United Kingdom            100%  \n",
       "3                  United States             50%  \n",
       "4            United States,Japan             16%  \n",
       "..                           ...             ...  \n",
       "506                United States             82%  \n",
       "507                        China             75%  \n",
       "508                United States             42%  \n",
       "509               France,Belgium             69%  \n",
       "510                United States             40%  \n",
       "\n",
       "[511 rows x 16 columns]"
      ],
      "text/html": "<div>\n<style scoped>\n    .dataframe tbody tr th:only-of-type {\n        vertical-align: middle;\n    }\n\n    .dataframe tbody tr th {\n        vertical-align: top;\n    }\n\n    .dataframe thead th {\n        text-align: right;\n    }\n</style>\n<table border=\"1\" class=\"dataframe\">\n  <thead>\n    <tr style=\"text-align: right;\">\n      <th></th>\n      <th>imdb_title_id</th>\n      <th>Title</th>\n      <th>year</th>\n      <th>actors</th>\n      <th>director</th>\n      <th>genre</th>\n      <th>country</th>\n      <th>language</th>\n      <th>duration</th>\n      <th>metascore</th>\n      <th>Year</th>\n      <th>Genres</th>\n      <th>Runtime</th>\n      <th>Language</th>\n      <th>Country</th>\n      <th>Rotten Tomatoes</th>\n    </tr>\n  </thead>\n  <tbody>\n    <tr>\n      <th>0</th>\n      <td>tt0032455</td>\n      <td>Fantasia</td>\n      <td>1940</td>\n      <td>Deems Taylor, Leopold Stokowski, The Philadelp...</td>\n      <td>James Algar, Samuel Armstrong</td>\n      <td>Animation, Family, Fantasy</td>\n      <td>USA</td>\n      <td>English</td>\n      <td>125</td>\n      <td>96.0</td>\n      <td>1940</td>\n      <td>Animation,Family,Fantasy,Music</td>\n      <td>125.0</td>\n      <td>English</td>\n      <td>United States</td>\n      <td>94%</td>\n    </tr>\n    <tr>\n      <th>1</th>\n      <td>tt0032910</td>\n      <td>Pinocchio</td>\n      <td>1940</td>\n      <td>Mel Blanc, Don Brodie, Stuart Buchanan, Walter...</td>\n      <td>Norman Ferguson, T. Hee</td>\n      <td>Animation, Comedy, Family</td>\n      <td>USA</td>\n      <td>English</td>\n      <td>88</td>\n      <td>99.0</td>\n      <td>1940</td>\n      <td>Drama,Fantasy</td>\n      <td>120.0</td>\n      <td>Italian</td>\n      <td>Italy,France,United Kingdom</td>\n      <td>100%</td>\n    </tr>\n    <tr>\n      <th>2</th>\n      <td>tt0255477</td>\n      <td>Pinocchio</td>\n      <td>2002</td>\n      <td>Roberto Benigni, Nicoletta Braschi, Mino Belle...</td>\n      <td>Roberto Benigni</td>\n      <td>Comedy, Family, Fantasy</td>\n      <td>Italy</td>\n      <td>Italian</td>\n      <td>108</td>\n      <td>11.0</td>\n      <td>1940</td>\n      <td>Drama,Fantasy</td>\n      <td>120.0</td>\n      <td>Italian</td>\n      <td>Italy,France,United Kingdom</td>\n      <td>100%</td>\n    </tr>\n    <tr>\n      <th>3</th>\n      <td>tt0035423</td>\n      <td>Kate &amp; Leopold</td>\n      <td>2001</td>\n      <td>Meg Ryan, Hugh Jackman, Liev Schreiber, Brecki...</td>\n      <td>James Mangold</td>\n      <td>Comedy, Fantasy, Romance</td>\n      <td>USA</td>\n      <td>English, French</td>\n      <td>118</td>\n      <td>44.0</td>\n      <td>2001</td>\n      <td>Comedy,Fantasy,Romance</td>\n      <td>118.0</td>\n      <td>English,French</td>\n      <td>United States</td>\n      <td>50%</td>\n    </tr>\n    <tr>\n      <th>4</th>\n      <td>tt0047034</td>\n      <td>Godzilla</td>\n      <td>1954</td>\n      <td>Akira Takarada, Momoko Kôchi, Akihiko Hirata, ...</td>\n      <td>Ishirô Honda</td>\n      <td>Action, Drama, Horror</td>\n      <td>Japan</td>\n      <td>Japanese</td>\n      <td>96</td>\n      <td>78.0</td>\n      <td>1998</td>\n      <td>Action,Adventure,Sci-Fi,Thriller</td>\n      <td>123.0</td>\n      <td>English,Japanese</td>\n      <td>United States,Japan</td>\n      <td>16%</td>\n    </tr>\n    <tr>\n      <th>...</th>\n      <td>...</td>\n      <td>...</td>\n      <td>...</td>\n      <td>...</td>\n      <td>...</td>\n      <td>...</td>\n      <td>...</td>\n      <td>...</td>\n      <td>...</td>\n      <td>...</td>\n      <td>...</td>\n      <td>...</td>\n      <td>...</td>\n      <td>...</td>\n      <td>...</td>\n      <td>...</td>\n    </tr>\n    <tr>\n      <th>506</th>\n      <td>tt7545524</td>\n      <td>Ben Is Back</td>\n      <td>2018</td>\n      <td>Julia Roberts, Lucas Hedges, Courtney B. Vance...</td>\n      <td>Peter Hedges</td>\n      <td>Drama</td>\n      <td>USA</td>\n      <td>English</td>\n      <td>103</td>\n      <td>66.0</td>\n      <td>2018</td>\n      <td>Drama</td>\n      <td>103.0</td>\n      <td>English</td>\n      <td>United States</td>\n      <td>82%</td>\n    </tr>\n    <tr>\n      <th>507</th>\n      <td>tt7605074</td>\n      <td>The Wandering Earth</td>\n      <td>2019</td>\n      <td>Jing Wu, Chuxiao Qu, Guangjie Li, Man-Tat Ng, ...</td>\n      <td>Frant Gwo</td>\n      <td>Action, Sci-Fi</td>\n      <td>China</td>\n      <td>Mandarin, English, Russian, French, Japanese, ...</td>\n      <td>125</td>\n      <td>57.0</td>\n      <td>2019</td>\n      <td>Action,Drama,Sci-Fi</td>\n      <td>125.0</td>\n      <td>Mandarin,English,Russian,French,Japanese,Korea...</td>\n      <td>China</td>\n      <td>75%</td>\n    </tr>\n    <tr>\n      <th>508</th>\n      <td>tt7634968</td>\n      <td>What Men Want</td>\n      <td>2019</td>\n      <td>Taraji P. Henson, Kristen Ledlow, Josh Brener,...</td>\n      <td>Adam Shankman</td>\n      <td>Comedy, Fantasy, Romance</td>\n      <td>USA</td>\n      <td>English, Mandarin</td>\n      <td>117</td>\n      <td>49.0</td>\n      <td>2019</td>\n      <td>Comedy,Fantasy,Romance</td>\n      <td>117.0</td>\n      <td>English,Mandarin</td>\n      <td>United States</td>\n      <td>42%</td>\n    </tr>\n    <tr>\n      <th>509</th>\n      <td>tt8359848</td>\n      <td>Climax</td>\n      <td>2018</td>\n      <td>Sofia Boutella, Romain Guillermic, Souheila Ya...</td>\n      <td>Gaspar Noé</td>\n      <td>Drama, Horror, Music</td>\n      <td>France, Belgium</td>\n      <td>French, English</td>\n      <td>97</td>\n      <td>67.0</td>\n      <td>2018</td>\n      <td>Drama,Horror,Music,Thriller</td>\n      <td>97.0</td>\n      <td>French,English</td>\n      <td>France,Belgium</td>\n      <td>69%</td>\n    </tr>\n    <tr>\n      <th>510</th>\n      <td>tt9024106</td>\n      <td>Unplanned</td>\n      <td>2019</td>\n      <td>Ashley Bratcher, Brooks Ryan, Robia Scott, Jar...</td>\n      <td>Chuck Konzelman, Cary Solomon</td>\n      <td>Biography, Drama</td>\n      <td>USA</td>\n      <td>English</td>\n      <td>109</td>\n      <td>10.0</td>\n      <td>2019</td>\n      <td>Biography,Drama</td>\n      <td>109.0</td>\n      <td>English</td>\n      <td>United States</td>\n      <td>40%</td>\n    </tr>\n  </tbody>\n</table>\n<p>511 rows × 16 columns</p>\n</div>"
     },
     "metadata": {},
     "execution_count": 307
    }
   ],
   "source": [
    "cleanComplete_Movies_data"
   ]
  },
  {
   "cell_type": "code",
   "execution_count": 308,
   "metadata": {},
   "outputs": [
    {
     "output_type": "execute_result",
     "data": {
      "text/plain": [
       "  imdb_title_id           Title  year           actors  \\\n",
       "0     tt0032455        Fantasia  1940     Deems Taylor   \n",
       "1     tt0032910       Pinocchio  1940        Mel Blanc   \n",
       "2     tt0255477       Pinocchio  2002  Roberto Benigni   \n",
       "3     tt0035423  Kate & Leopold  2001         Meg Ryan   \n",
       "4     tt0047034        Godzilla  1954   Akira Takarada   \n",
       "\n",
       "                        director                       genre country  \\\n",
       "0  James Algar, Samuel Armstrong  Animation, Family, Fantasy     USA   \n",
       "1        Norman Ferguson, T. Hee   Animation, Comedy, Family     USA   \n",
       "2                Roberto Benigni     Comedy, Family, Fantasy   Italy   \n",
       "3                  James Mangold    Comedy, Fantasy, Romance     USA   \n",
       "4                   Ishirô Honda       Action, Drama, Horror   Japan   \n",
       "\n",
       "          language  duration  metascore  Year  \\\n",
       "0          English       125       96.0  1940   \n",
       "1          English        88       99.0  1940   \n",
       "2          Italian       108       11.0  1940   \n",
       "3  English, French       118       44.0  2001   \n",
       "4         Japanese        96       78.0  1998   \n",
       "\n",
       "                             Genres  Runtime          Language  \\\n",
       "0    Animation,Family,Fantasy,Music    125.0           English   \n",
       "1                     Drama,Fantasy    120.0           Italian   \n",
       "2                     Drama,Fantasy    120.0           Italian   \n",
       "3            Comedy,Fantasy,Romance    118.0    English,French   \n",
       "4  Action,Adventure,Sci-Fi,Thriller    123.0  English,Japanese   \n",
       "\n",
       "                       Country Rotten Tomatoes  \n",
       "0                United States             94%  \n",
       "1  Italy,France,United Kingdom            100%  \n",
       "2  Italy,France,United Kingdom            100%  \n",
       "3                United States             50%  \n",
       "4          United States,Japan             16%  "
      ],
      "text/html": "<div>\n<style scoped>\n    .dataframe tbody tr th:only-of-type {\n        vertical-align: middle;\n    }\n\n    .dataframe tbody tr th {\n        vertical-align: top;\n    }\n\n    .dataframe thead th {\n        text-align: right;\n    }\n</style>\n<table border=\"1\" class=\"dataframe\">\n  <thead>\n    <tr style=\"text-align: right;\">\n      <th></th>\n      <th>imdb_title_id</th>\n      <th>Title</th>\n      <th>year</th>\n      <th>actors</th>\n      <th>director</th>\n      <th>genre</th>\n      <th>country</th>\n      <th>language</th>\n      <th>duration</th>\n      <th>metascore</th>\n      <th>Year</th>\n      <th>Genres</th>\n      <th>Runtime</th>\n      <th>Language</th>\n      <th>Country</th>\n      <th>Rotten Tomatoes</th>\n    </tr>\n  </thead>\n  <tbody>\n    <tr>\n      <th>0</th>\n      <td>tt0032455</td>\n      <td>Fantasia</td>\n      <td>1940</td>\n      <td>Deems Taylor</td>\n      <td>James Algar, Samuel Armstrong</td>\n      <td>Animation, Family, Fantasy</td>\n      <td>USA</td>\n      <td>English</td>\n      <td>125</td>\n      <td>96.0</td>\n      <td>1940</td>\n      <td>Animation,Family,Fantasy,Music</td>\n      <td>125.0</td>\n      <td>English</td>\n      <td>United States</td>\n      <td>94%</td>\n    </tr>\n    <tr>\n      <th>1</th>\n      <td>tt0032910</td>\n      <td>Pinocchio</td>\n      <td>1940</td>\n      <td>Mel Blanc</td>\n      <td>Norman Ferguson, T. Hee</td>\n      <td>Animation, Comedy, Family</td>\n      <td>USA</td>\n      <td>English</td>\n      <td>88</td>\n      <td>99.0</td>\n      <td>1940</td>\n      <td>Drama,Fantasy</td>\n      <td>120.0</td>\n      <td>Italian</td>\n      <td>Italy,France,United Kingdom</td>\n      <td>100%</td>\n    </tr>\n    <tr>\n      <th>2</th>\n      <td>tt0255477</td>\n      <td>Pinocchio</td>\n      <td>2002</td>\n      <td>Roberto Benigni</td>\n      <td>Roberto Benigni</td>\n      <td>Comedy, Family, Fantasy</td>\n      <td>Italy</td>\n      <td>Italian</td>\n      <td>108</td>\n      <td>11.0</td>\n      <td>1940</td>\n      <td>Drama,Fantasy</td>\n      <td>120.0</td>\n      <td>Italian</td>\n      <td>Italy,France,United Kingdom</td>\n      <td>100%</td>\n    </tr>\n    <tr>\n      <th>3</th>\n      <td>tt0035423</td>\n      <td>Kate &amp; Leopold</td>\n      <td>2001</td>\n      <td>Meg Ryan</td>\n      <td>James Mangold</td>\n      <td>Comedy, Fantasy, Romance</td>\n      <td>USA</td>\n      <td>English, French</td>\n      <td>118</td>\n      <td>44.0</td>\n      <td>2001</td>\n      <td>Comedy,Fantasy,Romance</td>\n      <td>118.0</td>\n      <td>English,French</td>\n      <td>United States</td>\n      <td>50%</td>\n    </tr>\n    <tr>\n      <th>4</th>\n      <td>tt0047034</td>\n      <td>Godzilla</td>\n      <td>1954</td>\n      <td>Akira Takarada</td>\n      <td>Ishirô Honda</td>\n      <td>Action, Drama, Horror</td>\n      <td>Japan</td>\n      <td>Japanese</td>\n      <td>96</td>\n      <td>78.0</td>\n      <td>1998</td>\n      <td>Action,Adventure,Sci-Fi,Thriller</td>\n      <td>123.0</td>\n      <td>English,Japanese</td>\n      <td>United States,Japan</td>\n      <td>16%</td>\n    </tr>\n  </tbody>\n</table>\n</div>"
     },
     "metadata": {},
     "execution_count": 308
    }
   ],
   "source": [
    "# Actors_df = cleanComplete_Movies_data()\n",
    "cleanComplete_Movies_data['actors'] = cleanComplete_Movies_data['actors'].str.split(',', expand=True)[0]\n",
    "cleanComplete_Movies_data.head()"
   ]
  },
  {
   "cell_type": "code",
   "execution_count": 309,
   "metadata": {},
   "outputs": [
    {
     "output_type": "stream",
     "name": "stdout",
     "text": [
      "0       94\n1      100\n2      100\n3       50\n4       16\n      ... \n506     82\n507     75\n508     42\n509     69\n510     40\nName: Rotten Tomatoes, Length: 511, dtype: object\n"
     ]
    }
   ],
   "source": [
    "rotten_tom_score = cleanComplete_Movies_data[\"Rotten Tomatoes\"]\n",
    "cleanComplete_Movies_data[\"Rotten Tomatoes\"] = cleanComplete_Movies_data[\"Rotten Tomatoes\"].replace({'%':''}, regex = True)\n",
    "\n",
    "print(rotten_tom_score)"
   ]
  },
  {
   "cell_type": "code",
   "execution_count": 310,
   "metadata": {},
   "outputs": [
    {
     "output_type": "execute_result",
     "data": {
      "text/plain": [
       "0       94\n",
       "1      100\n",
       "2      100\n",
       "3       50\n",
       "4       16\n",
       "      ... \n",
       "506     82\n",
       "507     75\n",
       "508     42\n",
       "509     69\n",
       "510     40\n",
       "Name: Rotten Tomatoes, Length: 511, dtype: object"
      ]
     },
     "metadata": {},
     "execution_count": 310
    }
   ],
   "source": [
    "#Average rotten tomotoes score\n",
    "rotten_tom_score"
   ]
  },
  {
   "cell_type": "code",
   "execution_count": 313,
   "metadata": {},
   "outputs": [
    {
     "output_type": "execute_result",
     "data": {
      "text/plain": [
       "0       94.0\n",
       "1      100.0\n",
       "2      100.0\n",
       "3       50.0\n",
       "4       16.0\n",
       "       ...  \n",
       "506     82.0\n",
       "507     75.0\n",
       "508     42.0\n",
       "509     69.0\n",
       "510     40.0\n",
       "Name: Rotten Tomatoes, Length: 511, dtype: float64"
      ]
     },
     "metadata": {},
     "execution_count": 313
    }
   ],
   "source": [
    "rotten_tom_score_numeric = cleanComplete_Movies_data['Rotten Tomatoes']\n",
    "cleanComplete_Movies_data['Rotten Tomatoes'] = pd.to_numeric(cleanComplete_Movies_data['Rotten Tomatoes'],errors='coerce')\n",
    "rotten_tom_score_numeric"
   ]
  },
  {
   "cell_type": "code",
   "execution_count": 314,
   "metadata": {},
   "outputs": [
    {
     "output_type": "execute_result",
     "data": {
      "text/plain": [
       "count    511.000000\n",
       "mean      58.589041\n",
       "std       26.902719\n",
       "min        2.000000\n",
       "25%       37.000000\n",
       "50%       64.000000\n",
       "75%       81.000000\n",
       "max      100.000000\n",
       "Name: Rotten Tomatoes, dtype: float64"
      ]
     },
     "metadata": {},
     "execution_count": 314
    }
   ],
   "source": [
    "rotten_tom_score_numeric.describe()"
   ]
  },
  {
   "cell_type": "code",
   "execution_count": 316,
   "metadata": {},
   "outputs": [
    {
     "output_type": "execute_result",
     "data": {
      "text/plain": [
       "58.58904109589041"
      ]
     },
     "metadata": {},
     "execution_count": 316
    }
   ],
   "source": [
    "#IMDb \n",
    "rotten_tom_score_numeric.mean()"
   ]
  },
  {
   "cell_type": "code",
   "execution_count": 317,
   "metadata": {},
   "outputs": [
    {
     "output_type": "execute_result",
     "data": {
      "text/plain": [
       "56.28180039138943"
      ]
     },
     "metadata": {},
     "execution_count": 317
    }
   ],
   "source": [
    "#Streaming Movies metascore\n",
    "cleanComplete_Movies_data[\"metascore\"].mean()"
   ]
  },
  {
   "cell_type": "code",
   "execution_count": 318,
   "metadata": {},
   "outputs": [
    {
     "output_type": "execute_result",
     "data": {
      "text/plain": [
       "56.28180039138943"
      ]
     },
     "metadata": {},
     "execution_count": 318
    }
   ],
   "source": [
    "#Avearge movie rating (metascore)\n",
    "cleanComplete_Movies_data[\"metascore\"].mean()\n",
    "\n"
   ]
  },
  {
   "cell_type": "code",
   "execution_count": 319,
   "metadata": {},
   "outputs": [
    {
     "output_type": "execute_result",
     "data": {
      "text/plain": [
       "108.73972602739725"
      ]
     },
     "metadata": {},
     "execution_count": 319
    }
   ],
   "source": [
    "# Average runtime\n",
    "cleanComplete_Movies_data[\"Runtime\"].mean()\n"
   ]
  },
  {
   "cell_type": "code",
   "execution_count": 320,
   "metadata": {},
   "outputs": [
    {
     "output_type": "execute_result",
     "data": {
      "text/plain": [
       "107.92563600782779"
      ]
     },
     "metadata": {},
     "execution_count": 320
    }
   ],
   "source": [
    "#Average duration\n",
    "cleanComplete_Movies_data[\"duration\"].mean()"
   ]
  },
  {
   "cell_type": "code",
   "execution_count": 321,
   "metadata": {},
   "outputs": [
    {
     "output_type": "execute_result",
     "data": {
      "text/plain": [
       "  imdb_title_id           Title  year                       genre  duration  \\\n",
       "0     tt0032455        Fantasia  1940  Animation, Family, Fantasy       125   \n",
       "1     tt0032910       Pinocchio  1940   Animation, Comedy, Family        88   \n",
       "2     tt0255477       Pinocchio  2002     Comedy, Family, Fantasy       108   \n",
       "3     tt0035423  Kate & Leopold  2001    Comedy, Fantasy, Romance       118   \n",
       "4     tt0047034        Godzilla  1954       Action, Drama, Horror        96   \n",
       "\n",
       "  country         language                       director  \\\n",
       "0     USA          English  James Algar, Samuel Armstrong   \n",
       "1     USA          English        Norman Ferguson, T. Hee   \n",
       "2   Italy          Italian                Roberto Benigni   \n",
       "3     USA  English, French                  James Mangold   \n",
       "4   Japan         Japanese                   Ishirô Honda   \n",
       "\n",
       "                             Genres                      Country  \\\n",
       "0    Animation,Family,Fantasy,Music                United States   \n",
       "1                     Drama,Fantasy  Italy,France,United Kingdom   \n",
       "2                     Drama,Fantasy  Italy,France,United Kingdom   \n",
       "3            Comedy,Fantasy,Romance                United States   \n",
       "4  Action,Adventure,Sci-Fi,Thriller          United States,Japan   \n",
       "\n",
       "           Language  Runtime  \n",
       "0           English    125.0  \n",
       "1           Italian    120.0  \n",
       "2           Italian    120.0  \n",
       "3    English,French    118.0  \n",
       "4  English,Japanese    123.0  "
      ],
      "text/html": "<div>\n<style scoped>\n    .dataframe tbody tr th:only-of-type {\n        vertical-align: middle;\n    }\n\n    .dataframe tbody tr th {\n        vertical-align: top;\n    }\n\n    .dataframe thead th {\n        text-align: right;\n    }\n</style>\n<table border=\"1\" class=\"dataframe\">\n  <thead>\n    <tr style=\"text-align: right;\">\n      <th></th>\n      <th>imdb_title_id</th>\n      <th>Title</th>\n      <th>year</th>\n      <th>genre</th>\n      <th>duration</th>\n      <th>country</th>\n      <th>language</th>\n      <th>director</th>\n      <th>Genres</th>\n      <th>Country</th>\n      <th>Language</th>\n      <th>Runtime</th>\n    </tr>\n  </thead>\n  <tbody>\n    <tr>\n      <th>0</th>\n      <td>tt0032455</td>\n      <td>Fantasia</td>\n      <td>1940</td>\n      <td>Animation, Family, Fantasy</td>\n      <td>125</td>\n      <td>USA</td>\n      <td>English</td>\n      <td>James Algar, Samuel Armstrong</td>\n      <td>Animation,Family,Fantasy,Music</td>\n      <td>United States</td>\n      <td>English</td>\n      <td>125.0</td>\n    </tr>\n    <tr>\n      <th>1</th>\n      <td>tt0032910</td>\n      <td>Pinocchio</td>\n      <td>1940</td>\n      <td>Animation, Comedy, Family</td>\n      <td>88</td>\n      <td>USA</td>\n      <td>English</td>\n      <td>Norman Ferguson, T. Hee</td>\n      <td>Drama,Fantasy</td>\n      <td>Italy,France,United Kingdom</td>\n      <td>Italian</td>\n      <td>120.0</td>\n    </tr>\n    <tr>\n      <th>2</th>\n      <td>tt0255477</td>\n      <td>Pinocchio</td>\n      <td>2002</td>\n      <td>Comedy, Family, Fantasy</td>\n      <td>108</td>\n      <td>Italy</td>\n      <td>Italian</td>\n      <td>Roberto Benigni</td>\n      <td>Drama,Fantasy</td>\n      <td>Italy,France,United Kingdom</td>\n      <td>Italian</td>\n      <td>120.0</td>\n    </tr>\n    <tr>\n      <th>3</th>\n      <td>tt0035423</td>\n      <td>Kate &amp; Leopold</td>\n      <td>2001</td>\n      <td>Comedy, Fantasy, Romance</td>\n      <td>118</td>\n      <td>USA</td>\n      <td>English, French</td>\n      <td>James Mangold</td>\n      <td>Comedy,Fantasy,Romance</td>\n      <td>United States</td>\n      <td>English,French</td>\n      <td>118.0</td>\n    </tr>\n    <tr>\n      <th>4</th>\n      <td>tt0047034</td>\n      <td>Godzilla</td>\n      <td>1954</td>\n      <td>Action, Drama, Horror</td>\n      <td>96</td>\n      <td>Japan</td>\n      <td>Japanese</td>\n      <td>Ishirô Honda</td>\n      <td>Action,Adventure,Sci-Fi,Thriller</td>\n      <td>United States,Japan</td>\n      <td>English,Japanese</td>\n      <td>123.0</td>\n    </tr>\n  </tbody>\n</table>\n</div>"
     },
     "metadata": {},
     "execution_count": 321
    }
   ],
   "source": [
    "new_complete_Movies_data = cleanComplete_Movies_data[['imdb_title_id','Title',\t'year', 'genre','duration','country',\t'language',\t'director', 'Genres','Country', 'Language',\t'Runtime']].copy()\n",
    "new_complete_Movies_data.head()"
   ]
  },
  {
   "cell_type": "code",
   "execution_count": 322,
   "metadata": {},
   "outputs": [
    {
     "output_type": "execute_result",
     "data": {
      "text/plain": [
       "    imdb_title_id                Title  year                       genre  \\\n",
       "0       tt0032455             Fantasia  1940  Animation, Family, Fantasy   \n",
       "1       tt0032910            Pinocchio  1940   Animation, Comedy, Family   \n",
       "2       tt0255477            Pinocchio  2002     Comedy, Family, Fantasy   \n",
       "3       tt0035423       Kate & Leopold  2001    Comedy, Fantasy, Romance   \n",
       "4       tt0047034             Godzilla  1954       Action, Drama, Horror   \n",
       "..            ...                  ...   ...                         ...   \n",
       "506     tt7545524          Ben Is Back  2018                       Drama   \n",
       "507     tt7605074  The Wandering Earth  2019              Action, Sci-Fi   \n",
       "508     tt7634968        What Men Want  2019    Comedy, Fantasy, Romance   \n",
       "509     tt8359848               Climax  2018        Drama, Horror, Music   \n",
       "510     tt9024106            Unplanned  2019            Biography, Drama   \n",
       "\n",
       "     duration          country  \\\n",
       "0         125              USA   \n",
       "1          88              USA   \n",
       "2         108            Italy   \n",
       "3         118              USA   \n",
       "4          96            Japan   \n",
       "..        ...              ...   \n",
       "506       103              USA   \n",
       "507       125            China   \n",
       "508       117              USA   \n",
       "509        97  France, Belgium   \n",
       "510       109              USA   \n",
       "\n",
       "                                              language  \\\n",
       "0                                              English   \n",
       "1                                              English   \n",
       "2                                              Italian   \n",
       "3                                      English, French   \n",
       "4                                             Japanese   \n",
       "..                                                 ...   \n",
       "506                                            English   \n",
       "507  Mandarin, English, Russian, French, Japanese, ...   \n",
       "508                                  English, Mandarin   \n",
       "509                                    French, English   \n",
       "510                                            English   \n",
       "\n",
       "                          director                            Genres  \\\n",
       "0    James Algar, Samuel Armstrong    Animation,Family,Fantasy,Music   \n",
       "1          Norman Ferguson, T. Hee                     Drama,Fantasy   \n",
       "2                  Roberto Benigni                     Drama,Fantasy   \n",
       "3                    James Mangold            Comedy,Fantasy,Romance   \n",
       "4                     Ishirô Honda  Action,Adventure,Sci-Fi,Thriller   \n",
       "..                             ...                               ...   \n",
       "506                   Peter Hedges                             Drama   \n",
       "507                      Frant Gwo               Action,Drama,Sci-Fi   \n",
       "508                  Adam Shankman            Comedy,Fantasy,Romance   \n",
       "509                     Gaspar Noé       Drama,Horror,Music,Thriller   \n",
       "510  Chuck Konzelman, Cary Solomon                   Biography,Drama   \n",
       "\n",
       "                         Country  \\\n",
       "0                  United States   \n",
       "1    Italy,France,United Kingdom   \n",
       "2    Italy,France,United Kingdom   \n",
       "3                  United States   \n",
       "4            United States,Japan   \n",
       "..                           ...   \n",
       "506                United States   \n",
       "507                        China   \n",
       "508                United States   \n",
       "509               France,Belgium   \n",
       "510                United States   \n",
       "\n",
       "                                              Language  Runtime  \n",
       "0                                              English    125.0  \n",
       "1                                              Italian    120.0  \n",
       "2                                              Italian    120.0  \n",
       "3                                       English,French    118.0  \n",
       "4                                     English,Japanese    123.0  \n",
       "..                                                 ...      ...  \n",
       "506                                            English    103.0  \n",
       "507  Mandarin,English,Russian,French,Japanese,Korea...    125.0  \n",
       "508                                   English,Mandarin    117.0  \n",
       "509                                     French,English     97.0  \n",
       "510                                            English    109.0  \n",
       "\n",
       "[511 rows x 12 columns]"
      ],
      "text/html": "<div>\n<style scoped>\n    .dataframe tbody tr th:only-of-type {\n        vertical-align: middle;\n    }\n\n    .dataframe tbody tr th {\n        vertical-align: top;\n    }\n\n    .dataframe thead th {\n        text-align: right;\n    }\n</style>\n<table border=\"1\" class=\"dataframe\">\n  <thead>\n    <tr style=\"text-align: right;\">\n      <th></th>\n      <th>imdb_title_id</th>\n      <th>Title</th>\n      <th>year</th>\n      <th>genre</th>\n      <th>duration</th>\n      <th>country</th>\n      <th>language</th>\n      <th>director</th>\n      <th>Genres</th>\n      <th>Country</th>\n      <th>Language</th>\n      <th>Runtime</th>\n    </tr>\n  </thead>\n  <tbody>\n    <tr>\n      <th>0</th>\n      <td>tt0032455</td>\n      <td>Fantasia</td>\n      <td>1940</td>\n      <td>Animation, Family, Fantasy</td>\n      <td>125</td>\n      <td>USA</td>\n      <td>English</td>\n      <td>James Algar, Samuel Armstrong</td>\n      <td>Animation,Family,Fantasy,Music</td>\n      <td>United States</td>\n      <td>English</td>\n      <td>125.0</td>\n    </tr>\n    <tr>\n      <th>1</th>\n      <td>tt0032910</td>\n      <td>Pinocchio</td>\n      <td>1940</td>\n      <td>Animation, Comedy, Family</td>\n      <td>88</td>\n      <td>USA</td>\n      <td>English</td>\n      <td>Norman Ferguson, T. Hee</td>\n      <td>Drama,Fantasy</td>\n      <td>Italy,France,United Kingdom</td>\n      <td>Italian</td>\n      <td>120.0</td>\n    </tr>\n    <tr>\n      <th>2</th>\n      <td>tt0255477</td>\n      <td>Pinocchio</td>\n      <td>2002</td>\n      <td>Comedy, Family, Fantasy</td>\n      <td>108</td>\n      <td>Italy</td>\n      <td>Italian</td>\n      <td>Roberto Benigni</td>\n      <td>Drama,Fantasy</td>\n      <td>Italy,France,United Kingdom</td>\n      <td>Italian</td>\n      <td>120.0</td>\n    </tr>\n    <tr>\n      <th>3</th>\n      <td>tt0035423</td>\n      <td>Kate &amp; Leopold</td>\n      <td>2001</td>\n      <td>Comedy, Fantasy, Romance</td>\n      <td>118</td>\n      <td>USA</td>\n      <td>English, French</td>\n      <td>James Mangold</td>\n      <td>Comedy,Fantasy,Romance</td>\n      <td>United States</td>\n      <td>English,French</td>\n      <td>118.0</td>\n    </tr>\n    <tr>\n      <th>4</th>\n      <td>tt0047034</td>\n      <td>Godzilla</td>\n      <td>1954</td>\n      <td>Action, Drama, Horror</td>\n      <td>96</td>\n      <td>Japan</td>\n      <td>Japanese</td>\n      <td>Ishirô Honda</td>\n      <td>Action,Adventure,Sci-Fi,Thriller</td>\n      <td>United States,Japan</td>\n      <td>English,Japanese</td>\n      <td>123.0</td>\n    </tr>\n    <tr>\n      <th>...</th>\n      <td>...</td>\n      <td>...</td>\n      <td>...</td>\n      <td>...</td>\n      <td>...</td>\n      <td>...</td>\n      <td>...</td>\n      <td>...</td>\n      <td>...</td>\n      <td>...</td>\n      <td>...</td>\n      <td>...</td>\n    </tr>\n    <tr>\n      <th>506</th>\n      <td>tt7545524</td>\n      <td>Ben Is Back</td>\n      <td>2018</td>\n      <td>Drama</td>\n      <td>103</td>\n      <td>USA</td>\n      <td>English</td>\n      <td>Peter Hedges</td>\n      <td>Drama</td>\n      <td>United States</td>\n      <td>English</td>\n      <td>103.0</td>\n    </tr>\n    <tr>\n      <th>507</th>\n      <td>tt7605074</td>\n      <td>The Wandering Earth</td>\n      <td>2019</td>\n      <td>Action, Sci-Fi</td>\n      <td>125</td>\n      <td>China</td>\n      <td>Mandarin, English, Russian, French, Japanese, ...</td>\n      <td>Frant Gwo</td>\n      <td>Action,Drama,Sci-Fi</td>\n      <td>China</td>\n      <td>Mandarin,English,Russian,French,Japanese,Korea...</td>\n      <td>125.0</td>\n    </tr>\n    <tr>\n      <th>508</th>\n      <td>tt7634968</td>\n      <td>What Men Want</td>\n      <td>2019</td>\n      <td>Comedy, Fantasy, Romance</td>\n      <td>117</td>\n      <td>USA</td>\n      <td>English, Mandarin</td>\n      <td>Adam Shankman</td>\n      <td>Comedy,Fantasy,Romance</td>\n      <td>United States</td>\n      <td>English,Mandarin</td>\n      <td>117.0</td>\n    </tr>\n    <tr>\n      <th>509</th>\n      <td>tt8359848</td>\n      <td>Climax</td>\n      <td>2018</td>\n      <td>Drama, Horror, Music</td>\n      <td>97</td>\n      <td>France, Belgium</td>\n      <td>French, English</td>\n      <td>Gaspar Noé</td>\n      <td>Drama,Horror,Music,Thriller</td>\n      <td>France,Belgium</td>\n      <td>French,English</td>\n      <td>97.0</td>\n    </tr>\n    <tr>\n      <th>510</th>\n      <td>tt9024106</td>\n      <td>Unplanned</td>\n      <td>2019</td>\n      <td>Biography, Drama</td>\n      <td>109</td>\n      <td>USA</td>\n      <td>English</td>\n      <td>Chuck Konzelman, Cary Solomon</td>\n      <td>Biography,Drama</td>\n      <td>United States</td>\n      <td>English</td>\n      <td>109.0</td>\n    </tr>\n  </tbody>\n</table>\n<p>511 rows × 12 columns</p>\n</div>"
     },
     "metadata": {},
     "execution_count": 322
    }
   ],
   "source": [
    "Clean_complete_IMDb_df = new_complete_Movies_data.dropna(how='any')\n",
    "Clean_complete_IMDb_df"
   ]
  },
  {
   "cell_type": "code",
   "execution_count": 323,
   "metadata": {},
   "outputs": [],
   "source": [
    "from getpass import getpass\n",
    "password = getpass(\"Password\")"
   ]
  },
  {
   "cell_type": "code",
   "execution_count": 324,
   "metadata": {},
   "outputs": [],
   "source": [
    "#password"
   ]
  },
  {
   "cell_type": "code",
   "execution_count": 325,
   "metadata": {},
   "outputs": [],
   "source": [
    "# Connect to local database\n",
    "rds_connection_string = f\"postgres:{password}@localhost:5432/Movies_db\"\n",
    "engine = create_engine(f'postgresql://{rds_connection_string}')"
   ]
  },
  {
   "cell_type": "code",
   "execution_count": 326,
   "metadata": {},
   "outputs": [
    {
     "output_type": "execute_result",
     "data": {
      "text/plain": [
       "['CleanIMDB', 'IMoviesOnStreaming', 'IMDb_name', 'complete_Movies']"
      ]
     },
     "metadata": {},
     "execution_count": 326
    }
   ],
   "source": [
    "#Check for tables\n",
    "engine.table_names()"
   ]
  },
  {
   "cell_type": "code",
   "execution_count": 327,
   "metadata": {},
   "outputs": [],
   "source": [
    "new_IMDb_data_df.to_sql(name='CleanIMDB', con=engine, if_exists='append', index=False)"
   ]
  },
  {
   "cell_type": "code",
   "execution_count": 328,
   "metadata": {},
   "outputs": [],
   "source": [
    "new_IMoviesOnStreaming_data_df.to_sql(name='IMoviesOnStreaming', con=engine, if_exists='append', index=False)"
   ]
  },
  {
   "cell_type": "code",
   "execution_count": 329,
   "metadata": {},
   "outputs": [],
   "source": [
    "new_IMDb_name_data_df.to_sql(name='IMDb_name', con=engine, if_exists='append', index=False)"
   ]
  },
  {
   "cell_type": "code",
   "execution_count": 330,
   "metadata": {},
   "outputs": [],
   "source": [
    "new_complete_Movies_data.to_sql(name='complete_Movies', con=engine, if_exists='append', index=False)"
   ]
  },
  {
   "cell_type": "code",
   "execution_count": 331,
   "metadata": {},
   "outputs": [
    {
     "output_type": "execute_result",
     "data": {
      "text/plain": [
       "  imdb_title_id                      Title  year  \\\n",
       "0     tt0017136                 Metropolis  1927   \n",
       "1     tt0021749           Luci della città  1931   \n",
       "2     tt0027977              Tempi moderni  1936   \n",
       "3     tt0029453    Il bandito della Casbah  1937   \n",
       "4     tt0029583  Biancaneve e i sette nani  1937   \n",
       "\n",
       "                                              actors  \\\n",
       "0  Alfred Abel, Gustav Fröhlich, Rudolf Klein-Rog...   \n",
       "1  Virginia Cherrill, Florence Lee, Harry Myers, ...   \n",
       "2  Charles Chaplin, Paulette Goddard, Henry Bergm...   \n",
       "3  Jean Gabin, Gabriel Gabrio, Saturnin Fabre, Fe...   \n",
       "4  Roy Atwell, Stuart Buchanan, Adriana Caselotti...   \n",
       "\n",
       "                       director                       genre  country  \\\n",
       "0                    Fritz Lang               Drama, Sci-Fi  Germany   \n",
       "1               Charles Chaplin      Comedy, Drama, Romance      USA   \n",
       "2               Charles Chaplin       Comedy, Drama, Family      USA   \n",
       "3               Julien Duvivier       Crime, Drama, Romance   France   \n",
       "4  William Cottrell, David Hand  Animation, Family, Fantasy      USA   \n",
       "\n",
       "         language  duration  metascore  \n",
       "0          German       153       98.0  \n",
       "1         English        87       99.0  \n",
       "2         English        87       96.0  \n",
       "3  French, Arabic        94       98.0  \n",
       "4         English        83       95.0  "
      ],
      "text/html": "<div>\n<style scoped>\n    .dataframe tbody tr th:only-of-type {\n        vertical-align: middle;\n    }\n\n    .dataframe tbody tr th {\n        vertical-align: top;\n    }\n\n    .dataframe thead th {\n        text-align: right;\n    }\n</style>\n<table border=\"1\" class=\"dataframe\">\n  <thead>\n    <tr style=\"text-align: right;\">\n      <th></th>\n      <th>imdb_title_id</th>\n      <th>Title</th>\n      <th>year</th>\n      <th>actors</th>\n      <th>director</th>\n      <th>genre</th>\n      <th>country</th>\n      <th>language</th>\n      <th>duration</th>\n      <th>metascore</th>\n    </tr>\n  </thead>\n  <tbody>\n    <tr>\n      <th>0</th>\n      <td>tt0017136</td>\n      <td>Metropolis</td>\n      <td>1927</td>\n      <td>Alfred Abel, Gustav Fröhlich, Rudolf Klein-Rog...</td>\n      <td>Fritz Lang</td>\n      <td>Drama, Sci-Fi</td>\n      <td>Germany</td>\n      <td>German</td>\n      <td>153</td>\n      <td>98.0</td>\n    </tr>\n    <tr>\n      <th>1</th>\n      <td>tt0021749</td>\n      <td>Luci della città</td>\n      <td>1931</td>\n      <td>Virginia Cherrill, Florence Lee, Harry Myers, ...</td>\n      <td>Charles Chaplin</td>\n      <td>Comedy, Drama, Romance</td>\n      <td>USA</td>\n      <td>English</td>\n      <td>87</td>\n      <td>99.0</td>\n    </tr>\n    <tr>\n      <th>2</th>\n      <td>tt0027977</td>\n      <td>Tempi moderni</td>\n      <td>1936</td>\n      <td>Charles Chaplin, Paulette Goddard, Henry Bergm...</td>\n      <td>Charles Chaplin</td>\n      <td>Comedy, Drama, Family</td>\n      <td>USA</td>\n      <td>English</td>\n      <td>87</td>\n      <td>96.0</td>\n    </tr>\n    <tr>\n      <th>3</th>\n      <td>tt0029453</td>\n      <td>Il bandito della Casbah</td>\n      <td>1937</td>\n      <td>Jean Gabin, Gabriel Gabrio, Saturnin Fabre, Fe...</td>\n      <td>Julien Duvivier</td>\n      <td>Crime, Drama, Romance</td>\n      <td>France</td>\n      <td>French, Arabic</td>\n      <td>94</td>\n      <td>98.0</td>\n    </tr>\n    <tr>\n      <th>4</th>\n      <td>tt0029583</td>\n      <td>Biancaneve e i sette nani</td>\n      <td>1937</td>\n      <td>Roy Atwell, Stuart Buchanan, Adriana Caselotti...</td>\n      <td>William Cottrell, David Hand</td>\n      <td>Animation, Family, Fantasy</td>\n      <td>USA</td>\n      <td>English</td>\n      <td>83</td>\n      <td>95.0</td>\n    </tr>\n  </tbody>\n</table>\n</div>"
     },
     "metadata": {},
     "execution_count": 331
    }
   ],
   "source": [
    "pd.read_sql_query('select * from Public.\"CleanIMDB\" ', con=engine).head()"
   ]
  },
  {
   "cell_type": "code",
   "execution_count": 332,
   "metadata": {},
   "outputs": [
    {
     "output_type": "execute_result",
     "data": {
      "text/plain": [
       "                            Title  Year                            Genres  \\\n",
       "0                       Inception  2010  Action,Adventure,Sci-Fi,Thriller   \n",
       "1                      The Matrix  1999                     Action,Sci-Fi   \n",
       "2          Avengers: Infinity War  2018           Action,Adventure,Sci-Fi   \n",
       "3              Back to the Future  1985           Adventure,Comedy,Sci-Fi   \n",
       "4  The Good, the Bad and the Ugly  1966                           Western   \n",
       "\n",
       "   Runtime                 Language                       Country  \\\n",
       "0    148.0  English,Japanese,French  United States,United Kingdom   \n",
       "1    136.0                  English                 United States   \n",
       "2    149.0                  English                 United States   \n",
       "3    116.0                  English                 United States   \n",
       "4    161.0                  Italian      Italy,Spain,West Germany   \n",
       "\n",
       "  Rotten Tomatoes  \n",
       "0             87%  \n",
       "1             87%  \n",
       "2             84%  \n",
       "3             96%  \n",
       "4             97%  "
      ],
      "text/html": "<div>\n<style scoped>\n    .dataframe tbody tr th:only-of-type {\n        vertical-align: middle;\n    }\n\n    .dataframe tbody tr th {\n        vertical-align: top;\n    }\n\n    .dataframe thead th {\n        text-align: right;\n    }\n</style>\n<table border=\"1\" class=\"dataframe\">\n  <thead>\n    <tr style=\"text-align: right;\">\n      <th></th>\n      <th>Title</th>\n      <th>Year</th>\n      <th>Genres</th>\n      <th>Runtime</th>\n      <th>Language</th>\n      <th>Country</th>\n      <th>Rotten Tomatoes</th>\n    </tr>\n  </thead>\n  <tbody>\n    <tr>\n      <th>0</th>\n      <td>Inception</td>\n      <td>2010</td>\n      <td>Action,Adventure,Sci-Fi,Thriller</td>\n      <td>148.0</td>\n      <td>English,Japanese,French</td>\n      <td>United States,United Kingdom</td>\n      <td>87%</td>\n    </tr>\n    <tr>\n      <th>1</th>\n      <td>The Matrix</td>\n      <td>1999</td>\n      <td>Action,Sci-Fi</td>\n      <td>136.0</td>\n      <td>English</td>\n      <td>United States</td>\n      <td>87%</td>\n    </tr>\n    <tr>\n      <th>2</th>\n      <td>Avengers: Infinity War</td>\n      <td>2018</td>\n      <td>Action,Adventure,Sci-Fi</td>\n      <td>149.0</td>\n      <td>English</td>\n      <td>United States</td>\n      <td>84%</td>\n    </tr>\n    <tr>\n      <th>3</th>\n      <td>Back to the Future</td>\n      <td>1985</td>\n      <td>Adventure,Comedy,Sci-Fi</td>\n      <td>116.0</td>\n      <td>English</td>\n      <td>United States</td>\n      <td>96%</td>\n    </tr>\n    <tr>\n      <th>4</th>\n      <td>The Good, the Bad and the Ugly</td>\n      <td>1966</td>\n      <td>Western</td>\n      <td>161.0</td>\n      <td>Italian</td>\n      <td>Italy,Spain,West Germany</td>\n      <td>97%</td>\n    </tr>\n  </tbody>\n</table>\n</div>"
     },
     "metadata": {},
     "execution_count": 332
    }
   ],
   "source": [
    "pd.read_sql_query('select * from Public.\"IMoviesOnStreaming\"', con=engine).head()"
   ]
  },
  {
   "cell_type": "code",
   "execution_count": 333,
   "metadata": {},
   "outputs": [
    {
     "output_type": "execute_result",
     "data": {
      "text/plain": [
       "  imdb_name_id            name  height  \\\n",
       "0    nm0000001    Fred Astaire   177.0   \n",
       "1    nm0000002   Lauren Bacall   174.0   \n",
       "2    nm0000004    John Belushi   170.0   \n",
       "3    nm0000005  Ingmar Bergman   179.0   \n",
       "4    nm0000006  Ingrid Bergman   178.0   \n",
       "\n",
       "                                                 bio date_of_birth  \\\n",
       "0  Fred Astaire was born in Omaha, Nebraska, to J...    1899-05-10   \n",
       "1  Lauren Bacall was born Betty Joan Perske on Se...    1924-09-16   \n",
       "2  John Belushi was born in Chicago, Illinois, US...    1949-01-24   \n",
       "3  Ernst Ingmar Bergman was born July 14, 1918, t...    1918-07-14   \n",
       "4  Ingrid Bergman was one of the greatest actress...    1915-08-29   \n",
       "\n",
       "                            place_of_birth date_of_death  spouses  children  \n",
       "0                     Omaha, Nebraska, USA    1987-06-22        2         2  \n",
       "1  The Bronx, New York City, New York, USA    2014-08-12        2         3  \n",
       "2                   Chicago, Illinois, USA    1982-03-05        1         0  \n",
       "3             Uppsala, Uppsala län, Sweden    2007-07-30        5         8  \n",
       "4                        Stockholm, Sweden    1982-08-29        3         4  "
      ],
      "text/html": "<div>\n<style scoped>\n    .dataframe tbody tr th:only-of-type {\n        vertical-align: middle;\n    }\n\n    .dataframe tbody tr th {\n        vertical-align: top;\n    }\n\n    .dataframe thead th {\n        text-align: right;\n    }\n</style>\n<table border=\"1\" class=\"dataframe\">\n  <thead>\n    <tr style=\"text-align: right;\">\n      <th></th>\n      <th>imdb_name_id</th>\n      <th>name</th>\n      <th>height</th>\n      <th>bio</th>\n      <th>date_of_birth</th>\n      <th>place_of_birth</th>\n      <th>date_of_death</th>\n      <th>spouses</th>\n      <th>children</th>\n    </tr>\n  </thead>\n  <tbody>\n    <tr>\n      <th>0</th>\n      <td>nm0000001</td>\n      <td>Fred Astaire</td>\n      <td>177.0</td>\n      <td>Fred Astaire was born in Omaha, Nebraska, to J...</td>\n      <td>1899-05-10</td>\n      <td>Omaha, Nebraska, USA</td>\n      <td>1987-06-22</td>\n      <td>2</td>\n      <td>2</td>\n    </tr>\n    <tr>\n      <th>1</th>\n      <td>nm0000002</td>\n      <td>Lauren Bacall</td>\n      <td>174.0</td>\n      <td>Lauren Bacall was born Betty Joan Perske on Se...</td>\n      <td>1924-09-16</td>\n      <td>The Bronx, New York City, New York, USA</td>\n      <td>2014-08-12</td>\n      <td>2</td>\n      <td>3</td>\n    </tr>\n    <tr>\n      <th>2</th>\n      <td>nm0000004</td>\n      <td>John Belushi</td>\n      <td>170.0</td>\n      <td>John Belushi was born in Chicago, Illinois, US...</td>\n      <td>1949-01-24</td>\n      <td>Chicago, Illinois, USA</td>\n      <td>1982-03-05</td>\n      <td>1</td>\n      <td>0</td>\n    </tr>\n    <tr>\n      <th>3</th>\n      <td>nm0000005</td>\n      <td>Ingmar Bergman</td>\n      <td>179.0</td>\n      <td>Ernst Ingmar Bergman was born July 14, 1918, t...</td>\n      <td>1918-07-14</td>\n      <td>Uppsala, Uppsala län, Sweden</td>\n      <td>2007-07-30</td>\n      <td>5</td>\n      <td>8</td>\n    </tr>\n    <tr>\n      <th>4</th>\n      <td>nm0000006</td>\n      <td>Ingrid Bergman</td>\n      <td>178.0</td>\n      <td>Ingrid Bergman was one of the greatest actress...</td>\n      <td>1915-08-29</td>\n      <td>Stockholm, Sweden</td>\n      <td>1982-08-29</td>\n      <td>3</td>\n      <td>4</td>\n    </tr>\n  </tbody>\n</table>\n</div>"
     },
     "metadata": {},
     "execution_count": 333
    }
   ],
   "source": [
    "# Confirm data has been added by querying the customer_location table\n",
    "pd.read_sql_query('select * from Public.\"IMDb_name\"', con=engine).head()"
   ]
  },
  {
   "cell_type": "code",
   "execution_count": 334,
   "metadata": {},
   "outputs": [
    {
     "output_type": "execute_result",
     "data": {
      "text/plain": [
       "  imdb_name_id            name  height  \\\n",
       "0    nm0000001    Fred Astaire   177.0   \n",
       "1    nm0000002   Lauren Bacall   174.0   \n",
       "2    nm0000004    John Belushi   170.0   \n",
       "3    nm0000005  Ingmar Bergman   179.0   \n",
       "4    nm0000006  Ingrid Bergman   178.0   \n",
       "\n",
       "                                                 bio date_of_birth  \\\n",
       "0  Fred Astaire was born in Omaha, Nebraska, to J...    1899-05-10   \n",
       "1  Lauren Bacall was born Betty Joan Perske on Se...    1924-09-16   \n",
       "2  John Belushi was born in Chicago, Illinois, US...    1949-01-24   \n",
       "3  Ernst Ingmar Bergman was born July 14, 1918, t...    1918-07-14   \n",
       "4  Ingrid Bergman was one of the greatest actress...    1915-08-29   \n",
       "\n",
       "                            place_of_birth date_of_death  spouses  children  \n",
       "0                     Omaha, Nebraska, USA    1987-06-22        2         2  \n",
       "1  The Bronx, New York City, New York, USA    2014-08-12        2         3  \n",
       "2                   Chicago, Illinois, USA    1982-03-05        1         0  \n",
       "3             Uppsala, Uppsala län, Sweden    2007-07-30        5         8  \n",
       "4                        Stockholm, Sweden    1982-08-29        3         4  "
      ],
      "text/html": "<div>\n<style scoped>\n    .dataframe tbody tr th:only-of-type {\n        vertical-align: middle;\n    }\n\n    .dataframe tbody tr th {\n        vertical-align: top;\n    }\n\n    .dataframe thead th {\n        text-align: right;\n    }\n</style>\n<table border=\"1\" class=\"dataframe\">\n  <thead>\n    <tr style=\"text-align: right;\">\n      <th></th>\n      <th>imdb_name_id</th>\n      <th>name</th>\n      <th>height</th>\n      <th>bio</th>\n      <th>date_of_birth</th>\n      <th>place_of_birth</th>\n      <th>date_of_death</th>\n      <th>spouses</th>\n      <th>children</th>\n    </tr>\n  </thead>\n  <tbody>\n    <tr>\n      <th>0</th>\n      <td>nm0000001</td>\n      <td>Fred Astaire</td>\n      <td>177.0</td>\n      <td>Fred Astaire was born in Omaha, Nebraska, to J...</td>\n      <td>1899-05-10</td>\n      <td>Omaha, Nebraska, USA</td>\n      <td>1987-06-22</td>\n      <td>2</td>\n      <td>2</td>\n    </tr>\n    <tr>\n      <th>1</th>\n      <td>nm0000002</td>\n      <td>Lauren Bacall</td>\n      <td>174.0</td>\n      <td>Lauren Bacall was born Betty Joan Perske on Se...</td>\n      <td>1924-09-16</td>\n      <td>The Bronx, New York City, New York, USA</td>\n      <td>2014-08-12</td>\n      <td>2</td>\n      <td>3</td>\n    </tr>\n    <tr>\n      <th>2</th>\n      <td>nm0000004</td>\n      <td>John Belushi</td>\n      <td>170.0</td>\n      <td>John Belushi was born in Chicago, Illinois, US...</td>\n      <td>1949-01-24</td>\n      <td>Chicago, Illinois, USA</td>\n      <td>1982-03-05</td>\n      <td>1</td>\n      <td>0</td>\n    </tr>\n    <tr>\n      <th>3</th>\n      <td>nm0000005</td>\n      <td>Ingmar Bergman</td>\n      <td>179.0</td>\n      <td>Ernst Ingmar Bergman was born July 14, 1918, t...</td>\n      <td>1918-07-14</td>\n      <td>Uppsala, Uppsala län, Sweden</td>\n      <td>2007-07-30</td>\n      <td>5</td>\n      <td>8</td>\n    </tr>\n    <tr>\n      <th>4</th>\n      <td>nm0000006</td>\n      <td>Ingrid Bergman</td>\n      <td>178.0</td>\n      <td>Ingrid Bergman was one of the greatest actress...</td>\n      <td>1915-08-29</td>\n      <td>Stockholm, Sweden</td>\n      <td>1982-08-29</td>\n      <td>3</td>\n      <td>4</td>\n    </tr>\n  </tbody>\n</table>\n</div>"
     },
     "metadata": {},
     "execution_count": 334
    }
   ],
   "source": [
    "pd.read_sql_query('select * from Public.\"IMDb_name\"', con=engine).head()"
   ]
  },
  {
   "cell_type": "code",
   "execution_count": 335,
   "metadata": {},
   "outputs": [
    {
     "output_type": "execute_result",
     "data": {
      "text/plain": [
       "  imdb_title_id           Title  year date_published  \\\n",
       "0     tt0032455        Fantasia  1940     1946-09-19   \n",
       "1     tt0032910       Pinocchio  1940     1947-11-27   \n",
       "2     tt0255477       Pinocchio  2002     2002-10-11   \n",
       "3     tt0035423  Kate & Leopold  2001     2002-03-01   \n",
       "4     tt0047034        Godzilla  1954     1957-04-05   \n",
       "\n",
       "                        genre  duration country         language  \\\n",
       "0  Animation, Family, Fantasy       125     USA          English   \n",
       "1   Animation, Comedy, Family        88     USA          English   \n",
       "2     Comedy, Family, Fantasy       108   Italy          Italian   \n",
       "3    Comedy, Fantasy, Romance       118     USA  English, French   \n",
       "4       Action, Drama, Horror        96   Japan         Japanese   \n",
       "\n",
       "                        director  Type  \\\n",
       "0  James Algar, Samuel Armstrong   0.0   \n",
       "1        Norman Ferguson, T. Hee   0.0   \n",
       "2                Roberto Benigni   0.0   \n",
       "3                  James Mangold   0.0   \n",
       "4                   Ishirô Honda   0.0   \n",
       "\n",
       "                                           Directors  \\\n",
       "0  James Algar,Samuel Armstrong,Ford Beebe Jr.,No...   \n",
       "1                                     Matteo Garrone   \n",
       "2                                     Matteo Garrone   \n",
       "3                                      James Mangold   \n",
       "4                                     Gareth Edwards   \n",
       "\n",
       "                             Genres                      Country  \\\n",
       "0    Animation,Family,Fantasy,Music                United States   \n",
       "1                     Drama,Fantasy  Italy,France,United Kingdom   \n",
       "2                     Drama,Fantasy  Italy,France,United Kingdom   \n",
       "3            Comedy,Fantasy,Romance                United States   \n",
       "4  Action,Adventure,Sci-Fi,Thriller          United States,Japan   \n",
       "\n",
       "           Language  Runtime  \n",
       "0           English    125.0  \n",
       "1           Italian    120.0  \n",
       "2           Italian    120.0  \n",
       "3    English,French    118.0  \n",
       "4  English,Japanese    123.0  "
      ],
      "text/html": "<div>\n<style scoped>\n    .dataframe tbody tr th:only-of-type {\n        vertical-align: middle;\n    }\n\n    .dataframe tbody tr th {\n        vertical-align: top;\n    }\n\n    .dataframe thead th {\n        text-align: right;\n    }\n</style>\n<table border=\"1\" class=\"dataframe\">\n  <thead>\n    <tr style=\"text-align: right;\">\n      <th></th>\n      <th>imdb_title_id</th>\n      <th>Title</th>\n      <th>year</th>\n      <th>date_published</th>\n      <th>genre</th>\n      <th>duration</th>\n      <th>country</th>\n      <th>language</th>\n      <th>director</th>\n      <th>Type</th>\n      <th>Directors</th>\n      <th>Genres</th>\n      <th>Country</th>\n      <th>Language</th>\n      <th>Runtime</th>\n    </tr>\n  </thead>\n  <tbody>\n    <tr>\n      <th>0</th>\n      <td>tt0032455</td>\n      <td>Fantasia</td>\n      <td>1940</td>\n      <td>1946-09-19</td>\n      <td>Animation, Family, Fantasy</td>\n      <td>125</td>\n      <td>USA</td>\n      <td>English</td>\n      <td>James Algar, Samuel Armstrong</td>\n      <td>0.0</td>\n      <td>James Algar,Samuel Armstrong,Ford Beebe Jr.,No...</td>\n      <td>Animation,Family,Fantasy,Music</td>\n      <td>United States</td>\n      <td>English</td>\n      <td>125.0</td>\n    </tr>\n    <tr>\n      <th>1</th>\n      <td>tt0032910</td>\n      <td>Pinocchio</td>\n      <td>1940</td>\n      <td>1947-11-27</td>\n      <td>Animation, Comedy, Family</td>\n      <td>88</td>\n      <td>USA</td>\n      <td>English</td>\n      <td>Norman Ferguson, T. Hee</td>\n      <td>0.0</td>\n      <td>Matteo Garrone</td>\n      <td>Drama,Fantasy</td>\n      <td>Italy,France,United Kingdom</td>\n      <td>Italian</td>\n      <td>120.0</td>\n    </tr>\n    <tr>\n      <th>2</th>\n      <td>tt0255477</td>\n      <td>Pinocchio</td>\n      <td>2002</td>\n      <td>2002-10-11</td>\n      <td>Comedy, Family, Fantasy</td>\n      <td>108</td>\n      <td>Italy</td>\n      <td>Italian</td>\n      <td>Roberto Benigni</td>\n      <td>0.0</td>\n      <td>Matteo Garrone</td>\n      <td>Drama,Fantasy</td>\n      <td>Italy,France,United Kingdom</td>\n      <td>Italian</td>\n      <td>120.0</td>\n    </tr>\n    <tr>\n      <th>3</th>\n      <td>tt0035423</td>\n      <td>Kate &amp; Leopold</td>\n      <td>2001</td>\n      <td>2002-03-01</td>\n      <td>Comedy, Fantasy, Romance</td>\n      <td>118</td>\n      <td>USA</td>\n      <td>English, French</td>\n      <td>James Mangold</td>\n      <td>0.0</td>\n      <td>James Mangold</td>\n      <td>Comedy,Fantasy,Romance</td>\n      <td>United States</td>\n      <td>English,French</td>\n      <td>118.0</td>\n    </tr>\n    <tr>\n      <th>4</th>\n      <td>tt0047034</td>\n      <td>Godzilla</td>\n      <td>1954</td>\n      <td>1957-04-05</td>\n      <td>Action, Drama, Horror</td>\n      <td>96</td>\n      <td>Japan</td>\n      <td>Japanese</td>\n      <td>Ishirô Honda</td>\n      <td>0.0</td>\n      <td>Gareth Edwards</td>\n      <td>Action,Adventure,Sci-Fi,Thriller</td>\n      <td>United States,Japan</td>\n      <td>English,Japanese</td>\n      <td>123.0</td>\n    </tr>\n  </tbody>\n</table>\n</div>"
     },
     "metadata": {},
     "execution_count": 335
    }
   ],
   "source": [
    "pd.read_sql_query('select * from Public.\"complete_Movies\"', con=engine).head()"
   ]
  },
  {
   "cell_type": "code",
   "execution_count": null,
   "metadata": {},
   "outputs": [],
   "source": []
  }
 ]
}